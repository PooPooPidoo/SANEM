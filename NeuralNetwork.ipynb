{
 "cells": [
  {
   "cell_type": "code",
   "execution_count": 5,
   "metadata": {
    "pycharm": {
     "is_executing": false
    }
   },
   "outputs": [],
   "source": [
    "import numpy as np\n",
    "import os\n",
    "import pandas as pd\n",
    "import tensorflow as tf\n",
    "import matplotlib\n",
    "from tensorflow import keras\n",
    "from tensorflow.keras import layers"
   ]
  },
  {
   "cell_type": "code",
   "execution_count": 6,
   "metadata": {
    "pycharm": {
     "is_executing": false
    }
   },
   "outputs": [],
   "source": [
    "data_path = os.chdir(\"C:\\\\Users\\\\NoMad\\\\PycharmProjects\\\\SANEM\\\\movements\")"
   ]
  },
  {
   "cell_type": "code",
   "execution_count": 21,
   "metadata": {
    "pycharm": {
     "is_executing": false
    }
   },
   "outputs": [
    {
     "name": "stdout",
     "output_type": "stream",
     "text": [
      "(1, 24, 72)\n",
      "(25, 24, 51)\n"
     ]
    }
   ],
   "source": [
    "# другой вариант таблицы, где 25 - число движений, 24 - число пространственных переменных, n - число моментов, потребовавшихся для записи движения\n",
    "# (25, 24, n)\n",
    "x_train = np.array(pd.read_csv('m01_s01_e01_positions.txt', sep=','))\n",
    "x_train = np.array([x_train[:, 42:].transpose()])\n",
    "print(x_train.shape)\n",
    "\n",
    "for i in range(1,7):\n",
    "    for j in range(2,6):\n",
    "        data1 = np.array(pd.read_csv(f\"m0{i}_s0{j}_e01_positions.txt\", sep=','))\n",
    "        data1 = np.array([data1[:, 42:].transpose()])\n",
    "\n",
    "        if(x_train.shape[2]>data1.shape[2]):\n",
    "            x_train = x_train[:,:,:data1.shape[2]]\n",
    "            x_train = np.append(x_train, data1, axis=0)\n",
    "        elif(x_train.shape[2]<data1.shape[2]):\n",
    "            data1 = data1[:,:,:x_train.shape[2]]\n",
    "            x_train = np.append(x_train, data1, axis=0)\n",
    "        elif(x_train.shape[2]==data1.shape[2]):\n",
    "            x_train = np.append(x_train, data1, axis=0)\n",
    "\n",
    "print(x_train.shape)"
   ]
  },
  {
   "cell_type": "code",
   "execution_count": 22,
   "metadata": {},
   "outputs": [
    {
     "name": "stdout",
     "output_type": "stream",
     "text": [
      "(25, 24, 51, 1)\n"
     ]
    }
   ],
   "source": [
    "x_train = x_train.reshape(x_train.shape[0], 24, x_train.shape[2], 1)\n",
    "x_train = x_train.astype('float32')\n",
    "print(x_train.shape)"
   ]
  },
  {
   "cell_type": "code",
   "execution_count": 9,
   "metadata": {},
   "outputs": [
    {
     "name": "stdout",
     "output_type": "stream",
     "text": [
      "(1, 24, 51)\n",
      "predict_move_2 =  (1, 24, 51, 1)\n",
      "(1, 24, 51)\n",
      "predict_move_4 =  (1, 24, 51, 1)\n",
      "(1, 24, 51)\n",
      "predict_move_5 =  (1, 24, 51, 1)\n",
      "(1, 24, 51)\n",
      "predict_move_6 =  (1, 24, 51, 1)\n"
     ]
    }
   ],
   "source": [
    "# проверочные данные:\n",
    "predict_move_2 = np.array(pd.read_csv('m02_s01_e01_positions.txt', sep=','))\n",
    "predict_move_2 = np.array([predict_move_2[:51, 42:].transpose()])\n",
    "print(predict_move_2.shape)\n",
    "predict_move_2 = predict_move_2.reshape(predict_move_2.shape[0], 24, predict_move_2.shape[2], 1)\n",
    "predict_move_2 = predict_move_2.astype('float32')\n",
    "print(\"predict_move_2 = \",predict_move_2.shape)\n",
    "\n",
    "predict_move_4 = np.array(pd.read_csv('m04_s01_e01_positions.txt', sep=','))\n",
    "predict_move_4 = np.array([predict_move_4[:51, 42:].transpose()])\n",
    "print(predict_move_4.shape)\n",
    "predict_move_4 = predict_move_4.reshape(predict_move_4.shape[0], 24, predict_move_4.shape[2], 1)\n",
    "predict_move_4 = predict_move_4.astype('float32')\n",
    "print(\"predict_move_4 = \",predict_move_4.shape)\n",
    "\n",
    "predict_move_5 = np.array(pd.read_csv('m05_s01_e01_positions.txt', sep=','))\n",
    "predict_move_5 = np.array([predict_move_5[:51, 42:].transpose()])\n",
    "print(predict_move_5.shape)\n",
    "predict_move_5 = predict_move_5.reshape(predict_move_5.shape[0], 24, predict_move_5.shape[2], 1)\n",
    "predict_move_5 = predict_move_5.astype('float32')\n",
    "print(\"predict_move_5 = \",predict_move_5.shape)\n",
    "\n",
    "predict_move_6 = np.array(pd.read_csv('m06_s01_e05_positions.txt', sep=','))\n",
    "predict_move_6 = np.array([predict_move_6[:51, 42:].transpose()])\n",
    "print(predict_move_6.shape)\n",
    "predict_move_6 = predict_move_6.reshape(predict_move_6.shape[0], 24, predict_move_6.shape[2], 1)\n",
    "predict_move_6 = predict_move_6.astype('float32')\n",
    "print(\"predict_move_6 = \",predict_move_6.shape)"
   ]
  },
  {
   "cell_type": "code",
   "execution_count": 11,
   "metadata": {},
   "outputs": [
    {
     "name": "stdout",
     "output_type": "stream",
     "text": [
      "[[1. 0. 0. 0. 0. 0.]\n",
      " [1. 0. 0. 0. 0. 0.]\n",
      " [1. 0. 0. 0. 0. 0.]\n",
      " [1. 0. 0. 0. 0. 0.]\n",
      " [1. 0. 0. 0. 0. 0.]\n",
      " [0. 1. 0. 0. 0. 0.]]\n"
     ]
    }
   ],
   "source": [
    "# выходной набор данных. Столбец с единицей соответствует номеру соответствующего движения (движений всего 6) \n",
    "# y_train = [[1,0,0,0,0,0], [1,0,0,0,0,0], [1,0,0,0,0,0], [1,0,0,0,0,0], [1,0,0,0,0,0],\n",
    "#            [0,1,0,0,0,0], [0,1,0,0,0,0], [0,1,0,0,0,0], [0,1,0,0,0,0],\n",
    "#            [0,0,1,0,0,0], [0,0,1,0,0,0], [0,0,1,0,0,0], [0,0,1,0,0,0],\n",
    "#            [0,0,0,1,0,0], [0,0,0,1,0,0], [0,0,0,1,0,0], [0,0,0,1,0,0],\n",
    "#            [0,0,0,0,1,0], [0,0,0,0,1,0], [0,0,0,0,1,0], [0,0,0,0,1,0],\n",
    "#            [0,0,0,0,0,1], [0,0,0,0,0,1], [0,0,0,0,0,1]]\n",
    "\n",
    "y_train = [0,0,0,0,0,1,1,1,1,2,2,2,2,3,3,3,3,4,4,4,4,5,5,5,5]\n",
    "y_train = np.array(y_train, dtype=np.float32)\n",
    "y_train = keras.utils.to_categorical(y_train)\n",
    "print(y_train[:6])"
   ]
  },
  {
   "cell_type": "code",
   "execution_count": 23,
   "metadata": {
    "scrolled": true
   },
   "outputs": [
    {
     "name": "stdout",
     "output_type": "stream",
     "text": [
      "Model: \"sequential_or_what\"\n",
      "_________________________________________________________________\n",
      "Layer (type)                 Output Shape              Param #   \n",
      "=================================================================\n",
      "input_3 (InputLayer)         [(None, 24, 51, 1)]       0         \n",
      "_________________________________________________________________\n",
      "conv2d_4 (Conv2D)            (None, 22, 51, 25)        100       \n",
      "_________________________________________________________________\n",
      "conv2d_5 (Conv2D)            (None, 20, 51, 25)        1900      \n",
      "_________________________________________________________________\n",
      "dropout_2 (Dropout)          (None, 20, 51, 25)        0         \n",
      "_________________________________________________________________\n",
      "flatten_2 (Flatten)          (None, 25500)             0         \n",
      "_________________________________________________________________\n",
      "dense_1 (Dense)              (None, 6)                 153006    \n",
      "=================================================================\n",
      "Total params: 155,006\n",
      "Trainable params: 155,006\n",
      "Non-trainable params: 0\n",
      "_________________________________________________________________\n"
     ]
    }
   ],
   "source": [
    "# другой вариант нейросети (сверточная)\n",
    "input = keras.Input(shape=(24,x_train.shape[2],1))\n",
    "inputs = layers.Convolution2D(25, input_shape=(24,), kernel_size=(3,1), activation=\"relu\")(input)\n",
    "hidden1 = layers.Convolution2D(25, kernel_size=(3,1), activation=\"softmax\")(inputs)\n",
    "hidden1 = layers.Dropout(0.2)(hidden1)\n",
    "h1 = layers.Flatten()(hidden1)\n",
    "outputs = layers.Dense(6, activation=\"sigmoid\")(h1)\n",
    "\n",
    "seq_model = keras.Model(inputs=input, outputs=outputs, name=\"sequential_or_what\")\n",
    "seq_model.summary()"
   ]
  },
  {
   "cell_type": "code",
   "execution_count": 24,
   "metadata": {},
   "outputs": [],
   "source": [
    "seq_model.compile(\n",
    "    optimizer=keras.optimizers.Adam(),\n",
    "    loss=keras.losses.BinaryCrossentropy(),\n",
    "    metrics=['accuracy']\n",
    ")"
   ]
  },
  {
   "cell_type": "code",
   "execution_count": 25,
   "metadata": {
    "pycharm": {
     "is_executing": false
    }
   },
   "outputs": [
    {
     "name": "stdout",
     "output_type": "stream",
     "text": [
      "Epoch 1/100\n",
      "13/13 [==============================] - 0s 8ms/step - loss: 0.6106 - accuracy: 0.0800\n",
      "Epoch 2/100\n",
      "13/13 [==============================] - 0s 8ms/step - loss: 0.4941 - accuracy: 0.1200\n",
      "Epoch 3/100\n",
      "13/13 [==============================] - 0s 8ms/step - loss: 0.5024 - accuracy: 0.0800\n",
      "Epoch 4/100\n",
      "13/13 [==============================] - 0s 8ms/step - loss: 0.4694 - accuracy: 0.1600\n",
      "Epoch 5/100\n",
      "13/13 [==============================] - 0s 8ms/step - loss: 0.4494 - accuracy: 0.2800\n",
      "Epoch 6/100\n",
      "13/13 [==============================] - 0s 8ms/step - loss: 0.4713 - accuracy: 0.2800\n",
      "Epoch 7/100\n",
      "13/13 [==============================] - 0s 8ms/step - loss: 0.4554 - accuracy: 0.2400\n",
      "Epoch 8/100\n",
      "13/13 [==============================] - 0s 8ms/step - loss: 0.4014 - accuracy: 0.3200\n",
      "Epoch 9/100\n",
      "13/13 [==============================] - 0s 8ms/step - loss: 0.4148 - accuracy: 0.3200\n",
      "Epoch 10/100\n",
      "13/13 [==============================] - 0s 8ms/step - loss: 0.3900 - accuracy: 0.4400\n",
      "Epoch 11/100\n",
      "13/13 [==============================] - 0s 8ms/step - loss: 0.3983 - accuracy: 0.3200\n",
      "Epoch 12/100\n",
      "13/13 [==============================] - 0s 8ms/step - loss: 0.3265 - accuracy: 0.6800\n",
      "Epoch 13/100\n",
      "13/13 [==============================] - 0s 8ms/step - loss: 0.3157 - accuracy: 0.6400\n",
      "Epoch 14/100\n",
      "13/13 [==============================] - 0s 8ms/step - loss: 0.3142 - accuracy: 0.6000: 0s - loss: 0.3120 - accuracy: 0.50\n",
      "Epoch 15/100\n",
      "13/13 [==============================] - 0s 8ms/step - loss: 0.2991 - accuracy: 0.6400\n",
      "Epoch 16/100\n",
      "13/13 [==============================] - 0s 8ms/step - loss: 0.2809 - accuracy: 0.6800\n",
      "Epoch 17/100\n",
      "13/13 [==============================] - 0s 8ms/step - loss: 0.3003 - accuracy: 0.5200\n",
      "Epoch 18/100\n",
      "13/13 [==============================] - 0s 8ms/step - loss: 0.2500 - accuracy: 0.7600\n",
      "Epoch 19/100\n",
      "13/13 [==============================] - 0s 8ms/step - loss: 0.2386 - accuracy: 0.8000\n",
      "Epoch 20/100\n",
      "13/13 [==============================] - 0s 7ms/step - loss: 0.2244 - accuracy: 0.8400\n",
      "Epoch 21/100\n",
      "13/13 [==============================] - 0s 8ms/step - loss: 0.2144 - accuracy: 0.8400\n",
      "Epoch 22/100\n",
      "13/13 [==============================] - 0s 8ms/step - loss: 0.1972 - accuracy: 0.8400\n",
      "Epoch 23/100\n",
      "13/13 [==============================] - 0s 8ms/step - loss: 0.2271 - accuracy: 0.7600\n",
      "Epoch 24/100\n",
      "13/13 [==============================] - 0s 8ms/step - loss: 0.2383 - accuracy: 0.6800\n",
      "Epoch 25/100\n",
      "13/13 [==============================] - 0s 8ms/step - loss: 0.1585 - accuracy: 0.9200\n",
      "Epoch 26/100\n",
      "13/13 [==============================] - 0s 8ms/step - loss: 0.1682 - accuracy: 0.8800\n",
      "Epoch 27/100\n",
      "13/13 [==============================] - 0s 8ms/step - loss: 0.1528 - accuracy: 0.8800\n",
      "Epoch 28/100\n",
      "13/13 [==============================] - 0s 8ms/step - loss: 0.1393 - accuracy: 0.9200\n",
      "Epoch 29/100\n",
      "13/13 [==============================] - 0s 8ms/step - loss: 0.1522 - accuracy: 0.8800\n",
      "Epoch 30/100\n",
      "13/13 [==============================] - 0s 8ms/step - loss: 0.1492 - accuracy: 0.8800\n",
      "Epoch 31/100\n",
      "13/13 [==============================] - 0s 8ms/step - loss: 0.1229 - accuracy: 0.8800\n",
      "Epoch 32/100\n",
      "13/13 [==============================] - 0s 8ms/step - loss: 0.1134 - accuracy: 0.9600\n",
      "Epoch 33/100\n",
      "13/13 [==============================] - 0s 8ms/step - loss: 0.1124 - accuracy: 1.0000\n",
      "Epoch 34/100\n",
      "13/13 [==============================] - 0s 8ms/step - loss: 0.1011 - accuracy: 0.9600\n",
      "Epoch 35/100\n",
      "13/13 [==============================] - 0s 8ms/step - loss: 0.0915 - accuracy: 1.0000\n",
      "Epoch 36/100\n",
      "13/13 [==============================] - 0s 8ms/step - loss: 0.0879 - accuracy: 1.0000\n",
      "Epoch 37/100\n",
      "13/13 [==============================] - 0s 8ms/step - loss: 0.0864 - accuracy: 0.9600\n",
      "Epoch 38/100\n",
      "13/13 [==============================] - 0s 8ms/step - loss: 0.0810 - accuracy: 0.9600\n",
      "Epoch 39/100\n",
      "13/13 [==============================] - 0s 8ms/step - loss: 0.0708 - accuracy: 1.0000\n",
      "Epoch 40/100\n",
      "13/13 [==============================] - 0s 8ms/step - loss: 0.0709 - accuracy: 0.9600\n",
      "Epoch 41/100\n",
      "13/13 [==============================] - 0s 8ms/step - loss: 0.0733 - accuracy: 0.9600\n",
      "Epoch 42/100\n",
      "13/13 [==============================] - 0s 8ms/step - loss: 0.0852 - accuracy: 0.9600\n",
      "Epoch 43/100\n",
      "13/13 [==============================] - 0s 8ms/step - loss: 0.0591 - accuracy: 1.0000\n",
      "Epoch 44/100\n",
      "13/13 [==============================] - 0s 8ms/step - loss: 0.0532 - accuracy: 1.0000\n",
      "Epoch 45/100\n",
      "13/13 [==============================] - 0s 8ms/step - loss: 0.0539 - accuracy: 1.0000\n",
      "Epoch 46/100\n",
      "13/13 [==============================] - 0s 8ms/step - loss: 0.0460 - accuracy: 1.0000\n",
      "Epoch 47/100\n",
      "13/13 [==============================] - 0s 8ms/step - loss: 0.0443 - accuracy: 1.0000\n",
      "Epoch 48/100\n",
      "13/13 [==============================] - 0s 8ms/step - loss: 0.0447 - accuracy: 1.0000\n",
      "Epoch 49/100\n",
      "13/13 [==============================] - 0s 8ms/step - loss: 0.0372 - accuracy: 1.0000\n",
      "Epoch 50/100\n",
      "13/13 [==============================] - 0s 8ms/step - loss: 0.0326 - accuracy: 1.0000\n",
      "Epoch 51/100\n",
      "13/13 [==============================] - 0s 8ms/step - loss: 0.0390 - accuracy: 1.0000\n",
      "Epoch 52/100\n",
      "13/13 [==============================] - 0s 8ms/step - loss: 0.0377 - accuracy: 1.0000\n",
      "Epoch 53/100\n",
      "13/13 [==============================] - 0s 8ms/step - loss: 0.0344 - accuracy: 1.0000\n",
      "Epoch 54/100\n",
      "13/13 [==============================] - 0s 8ms/step - loss: 0.0373 - accuracy: 1.0000\n",
      "Epoch 55/100\n",
      "13/13 [==============================] - 0s 8ms/step - loss: 0.0337 - accuracy: 1.0000\n",
      "Epoch 56/100\n",
      "13/13 [==============================] - 0s 8ms/step - loss: 0.0334 - accuracy: 1.0000\n",
      "Epoch 57/100\n",
      "13/13 [==============================] - 0s 8ms/step - loss: 0.0272 - accuracy: 1.0000\n",
      "Epoch 58/100\n",
      "13/13 [==============================] - 0s 8ms/step - loss: 0.0353 - accuracy: 1.0000\n",
      "Epoch 59/100\n",
      "13/13 [==============================] - 0s 7ms/step - loss: 0.0272 - accuracy: 1.0000\n",
      "Epoch 60/100\n",
      "13/13 [==============================] - 0s 8ms/step - loss: 0.0287 - accuracy: 1.0000\n",
      "Epoch 61/100\n",
      "13/13 [==============================] - 0s 7ms/step - loss: 0.0221 - accuracy: 1.0000\n",
      "Epoch 62/100\n",
      "13/13 [==============================] - 0s 8ms/step - loss: 0.0247 - accuracy: 1.0000\n",
      "Epoch 63/100\n",
      "13/13 [==============================] - 0s 8ms/step - loss: 0.0240 - accuracy: 1.0000\n",
      "Epoch 64/100\n",
      "13/13 [==============================] - 0s 8ms/step - loss: 0.0240 - accuracy: 1.0000\n",
      "Epoch 65/100\n",
      "13/13 [==============================] - 0s 8ms/step - loss: 0.0198 - accuracy: 1.0000\n",
      "Epoch 66/100\n",
      "13/13 [==============================] - 0s 8ms/step - loss: 0.0231 - accuracy: 1.0000\n",
      "Epoch 67/100\n",
      "13/13 [==============================] - 0s 8ms/step - loss: 0.0179 - accuracy: 1.0000\n",
      "Epoch 68/100\n",
      "13/13 [==============================] - 0s 8ms/step - loss: 0.0142 - accuracy: 1.0000\n",
      "Epoch 69/100\n",
      "13/13 [==============================] - 0s 8ms/step - loss: 0.0182 - accuracy: 1.0000\n",
      "Epoch 70/100\n",
      "13/13 [==============================] - 0s 8ms/step - loss: 0.0173 - accuracy: 1.0000\n",
      "Epoch 71/100\n",
      "13/13 [==============================] - 0s 8ms/step - loss: 0.0206 - accuracy: 1.0000\n",
      "Epoch 72/100\n",
      "13/13 [==============================] - 0s 8ms/step - loss: 0.0151 - accuracy: 1.0000\n",
      "Epoch 73/100\n",
      "13/13 [==============================] - 0s 8ms/step - loss: 0.0137 - accuracy: 1.0000\n",
      "Epoch 74/100\n",
      "13/13 [==============================] - 0s 8ms/step - loss: 0.0114 - accuracy: 1.0000\n",
      "Epoch 75/100\n",
      "13/13 [==============================] - 0s 8ms/step - loss: 0.0124 - accuracy: 1.0000\n",
      "Epoch 76/100\n",
      "13/13 [==============================] - 0s 8ms/step - loss: 0.0118 - accuracy: 1.0000\n",
      "Epoch 77/100\n",
      "13/13 [==============================] - 0s 7ms/step - loss: 0.0129 - accuracy: 1.0000\n",
      "Epoch 78/100\n",
      "13/13 [==============================] - 0s 8ms/step - loss: 0.0108 - accuracy: 1.0000\n",
      "Epoch 79/100\n",
      "13/13 [==============================] - 0s 8ms/step - loss: 0.0107 - accuracy: 1.0000\n",
      "Epoch 80/100\n",
      "13/13 [==============================] - 0s 8ms/step - loss: 0.0099 - accuracy: 1.0000\n",
      "Epoch 81/100\n",
      "13/13 [==============================] - 0s 8ms/step - loss: 0.0110 - accuracy: 1.0000\n",
      "Epoch 82/100\n"
     ]
    },
    {
     "name": "stdout",
     "output_type": "stream",
     "text": [
      "13/13 [==============================] - 0s 8ms/step - loss: 0.0087 - accuracy: 1.0000\n",
      "Epoch 83/100\n",
      "13/13 [==============================] - 0s 8ms/step - loss: 0.0099 - accuracy: 1.0000\n",
      "Epoch 84/100\n",
      "13/13 [==============================] - 0s 8ms/step - loss: 0.0090 - accuracy: 1.0000\n",
      "Epoch 85/100\n",
      "13/13 [==============================] - 0s 8ms/step - loss: 0.0096 - accuracy: 1.0000\n",
      "Epoch 86/100\n",
      "13/13 [==============================] - 0s 8ms/step - loss: 0.0095 - accuracy: 1.0000\n",
      "Epoch 87/100\n",
      "13/13 [==============================] - 0s 7ms/step - loss: 0.0092 - accuracy: 1.0000\n",
      "Epoch 88/100\n",
      "13/13 [==============================] - 0s 8ms/step - loss: 0.0087 - accuracy: 1.0000\n",
      "Epoch 89/100\n",
      "13/13 [==============================] - 0s 8ms/step - loss: 0.0103 - accuracy: 1.0000\n",
      "Epoch 90/100\n",
      "13/13 [==============================] - 0s 8ms/step - loss: 0.0088 - accuracy: 1.0000\n",
      "Epoch 91/100\n",
      "13/13 [==============================] - 0s 8ms/step - loss: 0.0071 - accuracy: 1.0000\n",
      "Epoch 92/100\n",
      "13/13 [==============================] - 0s 8ms/step - loss: 0.0076 - accuracy: 1.0000\n",
      "Epoch 93/100\n",
      "13/13 [==============================] - 0s 8ms/step - loss: 0.0072 - accuracy: 1.0000\n",
      "Epoch 94/100\n",
      "13/13 [==============================] - 0s 8ms/step - loss: 0.0078 - accuracy: 1.0000\n",
      "Epoch 95/100\n",
      "13/13 [==============================] - 0s 8ms/step - loss: 0.0062 - accuracy: 1.0000\n",
      "Epoch 96/100\n",
      "13/13 [==============================] - 0s 7ms/step - loss: 0.0061 - accuracy: 1.0000\n",
      "Epoch 97/100\n",
      "13/13 [==============================] - 0s 8ms/step - loss: 0.0063 - accuracy: 1.0000\n",
      "Epoch 98/100\n",
      "13/13 [==============================] - 0s 8ms/step - loss: 0.0062 - accuracy: 1.0000\n",
      "Epoch 99/100\n",
      "13/13 [==============================] - 0s 8ms/step - loss: 0.0078 - accuracy: 1.0000\n",
      "Epoch 100/100\n",
      "13/13 [==============================] - 0s 8ms/step - loss: 0.0057 - accuracy: 1.0000\n"
     ]
    },
    {
     "data": {
      "text/plain": [
       "<tensorflow.python.keras.callbacks.History at 0x1c32c287eb8>"
      ]
     },
     "execution_count": 25,
     "metadata": {},
     "output_type": "execute_result"
    }
   ],
   "source": [
    "seq_model.fit(x_train,y_train,epochs=100,batch_size=2)"
   ]
  },
  {
   "cell_type": "code",
   "execution_count": 67,
   "metadata": {},
   "outputs": [
    {
     "name": "stdout",
     "output_type": "stream",
     "text": [
      "[3.1037456e-03 9.1514987e-01 1.7866507e-04 4.9094233e-04 1.2775529e-03\n",
      " 1.5232771e-03]\n",
      "91.51 % this is move №  2\n"
     ]
    }
   ],
   "source": [
    "predictArr = seq_model.predict(predict_move_2)\n",
    "print(predictArr[0])\n",
    "\n",
    "maxPercentage = 0\n",
    "for i in enumerate(predictArr[0]):\n",
    "    if(i[1]>maxPercentage):\n",
    "        maxPercentage=i[1]\n",
    "        move=i[0]+1     \n",
    "print(round(maxPercentage*100, 2),\"% this is move № \", move)"
   ]
  },
  {
   "cell_type": "code",
   "execution_count": 69,
   "metadata": {},
   "outputs": [
    {
     "name": "stdout",
     "output_type": "stream",
     "text": [
      "[4.1219688e-04 9.6837291e-05 1.6512241e-03 9.8281801e-01 5.5855144e-02\n",
      " 1.1280424e-05]\n",
      "98.28 % this is move №  4\n"
     ]
    }
   ],
   "source": [
    "predictArr = seq_model.predict(predict_move_4)\n",
    "print(predictArr[0])\n",
    "\n",
    "maxPercentage = 0\n",
    "for i in enumerate(predictArr[0]):\n",
    "    if(i[1]>maxPercentage):\n",
    "        maxPercentage=i[1]\n",
    "        move=i[0]+1     \n",
    "print(round(maxPercentage*100, 2),\"% this is move № \", move)"
   ]
  },
  {
   "cell_type": "code",
   "execution_count": 70,
   "metadata": {},
   "outputs": [
    {
     "name": "stdout",
     "output_type": "stream",
     "text": [
      "[1.1729021e-02 1.9642316e-04 2.3820330e-04 3.7410727e-03 9.8527676e-01\n",
      " 5.0973076e-06]\n",
      "98.53 % this is move №  5\n"
     ]
    }
   ],
   "source": [
    "predictArr = seq_model.predict(predict_move_5)\n",
    "print(predictArr[0])\n",
    "\n",
    "maxPercentage = 0\n",
    "for i in enumerate(predictArr[0]):\n",
    "    if(i[1]>maxPercentage):\n",
    "        maxPercentage=i[1]\n",
    "        move=i[0]+1     \n",
    "print(round(maxPercentage*100, 2),\"% this is move № \", move)"
   ]
  },
  {
   "cell_type": "code",
   "execution_count": 72,
   "metadata": {},
   "outputs": [
    {
     "name": "stdout",
     "output_type": "stream",
     "text": [
      "[3.9290026e-05 9.9408722e-01 3.6579502e-05 5.2649714e-04 5.5230624e-04\n",
      " 5.4420933e-02]\n",
      "99.41 % this is move №  2\n"
     ]
    }
   ],
   "source": [
    "predictArr = seq_model.predict(predict_move_6)\n",
    "print(predictArr[0])\n",
    "\n",
    "maxPercentage = 0\n",
    "for i in enumerate(predictArr[0]):\n",
    "    if(i[1]>maxPercentage):\n",
    "        maxPercentage=i[1]\n",
    "        move=i[0]+1     \n",
    "print(round(maxPercentage*100, 2),\"% this is move № \", move)"
   ]
  },
  {
   "cell_type": "code",
   "execution_count": null,
   "metadata": {},
   "outputs": [],
   "source": []
  }
 ],
 "metadata": {
  "kernelspec": {
   "display_name": "Python 3",
   "language": "python",
   "name": "python3"
  },
  "language_info": {
   "codemirror_mode": {
    "name": "ipython",
    "version": 3
   },
   "file_extension": ".py",
   "mimetype": "text/x-python",
   "name": "python",
   "nbconvert_exporter": "python",
   "pygments_lexer": "ipython3",
   "version": "3.7.0"
  }
 },
 "nbformat": 4,
 "nbformat_minor": 4
}
