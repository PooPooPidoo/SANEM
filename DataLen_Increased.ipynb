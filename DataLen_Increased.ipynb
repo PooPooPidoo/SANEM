{
 "cells": [
  {
   "cell_type": "code",
   "execution_count": 198,
   "metadata": {},
   "outputs": [
    {
     "name": "stderr",
     "output_type": "stream",
     "text": [
      "Using TensorFlow backend.\n"
     ]
    }
   ],
   "source": [
    "import numpy as np\n",
    "import os\n",
    "import pandas as pd\n",
    "import tensorflow as tf\n",
    "import matplotlib\n",
    "import keras\n",
    "from keras import layers"
   ]
  },
  {
   "cell_type": "code",
   "execution_count": 199,
   "metadata": {
    "pycharm": {
     "name": "#%%\n"
    }
   },
   "outputs": [],
   "source": [
    "data_path = os.chdir(\"C:\\\\Users\\\\NoMad\\\\PycharmProjects\\\\SANEM\\\\movements\")"
   ]
  },
  {
   "cell_type": "code",
   "execution_count": 200,
   "metadata": {
    "pycharm": {
     "name": "#%%\n"
    }
   },
   "outputs": [
    {
     "name": "stdout",
     "output_type": "stream",
     "text": [
      "(24, 24, 159)\n"
     ]
    }
   ],
   "source": [
    "# другой вариант таблицы, где 25 - число движений, 24 - число пространственных переменных, n - число моментов, потребовавшихся для записи движения\n",
    "# (25, 24, n)\n",
    "maxlen = 0\n",
    "flag = False\n",
    "for i in range(1,7):\n",
    "    for j in range(1,10):\n",
    "        data1 = np.array(pd.read_csv(f\"m0{i}_s0{j}_e01_positions.txt\", sep=','))\n",
    "        data1 = np.array([data1[:, 42:].transpose()])\n",
    "        if(maxlen<data1.shape[2]):\n",
    "            maxlen = data1.shape[2]\n",
    "\n",
    "for i in range(1,7):\n",
    "    for j in range(1,5):\n",
    "        if(flag==False):\n",
    "            data1 = np.array(pd.read_csv(f\"m0{i}_s0{j}_e01_positions.txt\", sep=','))\n",
    "            data1 = np.array([data1[:, 42:].transpose()])\n",
    "            x_train = np.zeros((data1.shape[0],data1.shape[1],maxlen))\n",
    "            x_train[:data1.shape[0],:data1.shape[1],:data1.shape[2]] = data1\n",
    "            flag=True\n",
    "            continue\n",
    "        data1 = np.array(pd.read_csv(f\"m0{i}_s0{j}_e01_positions.txt\", sep=','))\n",
    "        data1 = np.array([data1[:, 42:].transpose()])\n",
    "        if(data1.shape[2]<maxlen):\n",
    "            newdata = np.zeros((data1.shape[0],data1.shape[1],maxlen))\n",
    "            newdata[:data1.shape[0],:data1.shape[1],:data1.shape[2]] = data1\n",
    "            x_train = np.append(x_train, newdata, axis=0)\n",
    "        elif(data1.shape[2]==maxlen):\n",
    "            x_train = np.append(x_train, data1, axis=0)\n",
    "\n",
    "print(x_train.shape)"
   ]
  },
  {
   "cell_type": "code",
   "execution_count": 201,
   "metadata": {
    "pycharm": {
     "name": "#%%\n"
    }
   },
   "outputs": [
    {
     "name": "stdout",
     "output_type": "stream",
     "text": [
      "(24, 24, 159, 1)\n"
     ]
    }
   ],
   "source": [
    "x_train = x_train.reshape(x_train.shape[0], 24, x_train.shape[2], 1)\n",
    "x_train = x_train.astype('float32')\n",
    "print(x_train.shape)"
   ]
  },
  {
   "cell_type": "code",
   "execution_count": 202,
   "metadata": {
    "pycharm": {
     "name": "#%%\n"
    }
   },
   "outputs": [
    {
     "name": "stdout",
     "output_type": "stream",
     "text": [
      "(1, 24, 159)\n",
      "predict_move_1 =  (1, 24, 159, 1)\n",
      "(1, 24, 159)\n",
      "predict_move_2 =  (1, 24, 159, 1)\n",
      "(1, 24, 159)\n",
      "predict_move_3 =  (1, 24, 159, 1)\n",
      "(1, 24, 159)\n",
      "predict_move_4 =  (1, 24, 159, 1)\n",
      "(1, 24, 159)\n",
      "predict_move_5 =  (1, 24, 159, 1)\n",
      "(1, 24, 159)\n",
      "predict_move_6 =  (1, 24, 159, 1)\n"
     ]
    }
   ],
   "source": [
    "# проверочные данные:\n",
    "predict_move_1 = np.array(pd.read_csv('m01_s01_e05_positions.txt', sep=','))\n",
    "predict_move_1 = np.array([predict_move_1[:x_train.shape[2], 42:].transpose()])\n",
    "if(predict_move_1.shape[2]<maxlen):\n",
    "    newdata = np.zeros((predict_move_1.shape[0],predict_move_1.shape[1],maxlen))\n",
    "    newdata[:predict_move_1.shape[0],:predict_move_1.shape[1],:predict_move_1.shape[2]] = predict_move_1\n",
    "    predict_move_1 = newdata\n",
    "print(predict_move_1.shape)\n",
    "predict_move_1 = predict_move_1.reshape(predict_move_1.shape[0], 24, predict_move_1.shape[2], 1)\n",
    "predict_move_1 = predict_move_1.astype('float32')\n",
    "print(\"predict_move_1 = \",predict_move_1.shape)\n",
    "\n",
    "predict_move_2 = np.array(pd.read_csv('m02_s01_e01_positions.txt', sep=','))\n",
    "predict_move_2 = np.array([predict_move_2[:x_train.shape[2], 42:].transpose()])\n",
    "if(predict_move_2.shape[2]<maxlen):\n",
    "    newdata = np.zeros((predict_move_2.shape[0],predict_move_2.shape[1],maxlen))\n",
    "    newdata[:predict_move_2.shape[0],:predict_move_2.shape[1],:predict_move_2.shape[2]] = predict_move_2\n",
    "    predict_move_2 = newdata\n",
    "print(predict_move_2.shape)\n",
    "predict_move_2 = predict_move_2.reshape(predict_move_2.shape[0], 24, predict_move_2.shape[2], 1)\n",
    "predict_move_2 = predict_move_2.astype('float32')\n",
    "print(\"predict_move_2 = \",predict_move_2.shape)\n",
    "\n",
    "predict_move_3 = np.array(pd.read_csv('m03_s02_e02_positions.txt', sep=','))\n",
    "predict_move_3 = np.array([predict_move_3[:x_train.shape[2], 42:].transpose()])\n",
    "if(predict_move_3.shape[2]<maxlen):\n",
    "    newdata = np.zeros((predict_move_3.shape[0],predict_move_3.shape[1],maxlen))\n",
    "    newdata[:predict_move_3.shape[0],:predict_move_3.shape[1],:predict_move_3.shape[2]] = predict_move_3\n",
    "    predict_move_3 = newdata\n",
    "print(predict_move_3.shape)\n",
    "predict_move_3 = predict_move_3.reshape(predict_move_3.shape[0], 24, predict_move_3.shape[2], 1)\n",
    "predict_move_3 = predict_move_3.astype('float32')\n",
    "print(\"predict_move_3 = \",predict_move_3.shape)\n",
    "\n",
    "predict_move_4 = np.array(pd.read_csv('m04_s01_e01_positions.txt', sep=','))\n",
    "predict_move_4 = np.array([predict_move_4[:x_train.shape[2], 42:].transpose()])\n",
    "if(predict_move_4.shape[2]<maxlen):\n",
    "    newdata = np.zeros((predict_move_4.shape[0],predict_move_4.shape[1],maxlen))\n",
    "    newdata[:predict_move_4.shape[0],:predict_move_4.shape[1],:predict_move_4.shape[2]] = predict_move_4\n",
    "    predict_move_4 = newdata\n",
    "print(predict_move_4.shape)\n",
    "predict_move_4 = predict_move_4.reshape(predict_move_4.shape[0], 24, predict_move_4.shape[2], 1)\n",
    "predict_move_4 = predict_move_4.astype('float32')\n",
    "print(\"predict_move_4 = \",predict_move_4.shape)\n",
    "\n",
    "predict_move_5 = np.array(pd.read_csv('m05_s01_e01_positions.txt', sep=','))\n",
    "predict_move_5 = np.array([predict_move_5[:x_train.shape[2], 42:].transpose()])\n",
    "if(predict_move_5.shape[2]<maxlen):\n",
    "    newdata = np.zeros((predict_move_5.shape[0],predict_move_5.shape[1],maxlen))\n",
    "    newdata[:predict_move_5.shape[0],:predict_move_5.shape[1],:predict_move_5.shape[2]] = predict_move_5\n",
    "    predict_move_5 = newdata\n",
    "print(predict_move_5.shape)\n",
    "predict_move_5 = predict_move_5.reshape(predict_move_5.shape[0], 24, predict_move_5.shape[2], 1)\n",
    "predict_move_5 = predict_move_5.astype('float32')\n",
    "print(\"predict_move_5 = \",predict_move_5.shape)\n",
    "\n",
    "predict_move_6 = np.array(pd.read_csv('m06_s01_e05_positions.txt', sep=','))\n",
    "predict_move_6 = np.array([predict_move_6[:x_train.shape[2], 42:].transpose()])\n",
    "if(predict_move_6.shape[2]<maxlen):\n",
    "    newdata = np.zeros((predict_move_6.shape[0],predict_move_6.shape[1],maxlen))\n",
    "    newdata[:predict_move_6.shape[0],:predict_move_6.shape[1],:predict_move_6.shape[2]] = predict_move_6\n",
    "    predict_move_6 = newdata\n",
    "print(predict_move_6.shape)\n",
    "predict_move_6 = predict_move_6.reshape(predict_move_6.shape[0], 24, predict_move_6.shape[2], 1)\n",
    "predict_move_6 = predict_move_6.astype('float32')\n",
    "print(\"predict_move_6 = \",predict_move_6.shape)"
   ]
  },
  {
   "cell_type": "code",
   "execution_count": 203,
   "metadata": {
    "pycharm": {
     "name": "#%%\n"
    }
   },
   "outputs": [
    {
     "name": "stdout",
     "output_type": "stream",
     "text": [
      "[[1. 0. 0. 0. 0. 0.]\n",
      " [1. 0. 0. 0. 0. 0.]\n",
      " [1. 0. 0. 0. 0. 0.]\n",
      " [1. 0. 0. 0. 0. 0.]\n",
      " [0. 1. 0. 0. 0. 0.]\n",
      " [0. 1. 0. 0. 0. 0.]\n",
      " [0. 1. 0. 0. 0. 0.]\n",
      " [0. 1. 0. 0. 0. 0.]\n",
      " [0. 0. 1. 0. 0. 0.]\n",
      " [0. 0. 1. 0. 0. 0.]\n",
      " [0. 0. 1. 0. 0. 0.]\n",
      " [0. 0. 1. 0. 0. 0.]\n",
      " [0. 0. 0. 1. 0. 0.]\n",
      " [0. 0. 0. 1. 0. 0.]\n",
      " [0. 0. 0. 1. 0. 0.]\n",
      " [0. 0. 0. 1. 0. 0.]\n",
      " [0. 0. 0. 0. 1. 0.]\n",
      " [0. 0. 0. 0. 1. 0.]\n",
      " [0. 0. 0. 0. 1. 0.]\n",
      " [0. 0. 0. 0. 1. 0.]\n",
      " [0. 0. 0. 0. 0. 1.]\n",
      " [0. 0. 0. 0. 0. 1.]\n",
      " [0. 0. 0. 0. 0. 1.]\n",
      " [0. 0. 0. 0. 0. 1.]]\n"
     ]
    }
   ],
   "source": [
    "# выходной набор данных. Столбец с единицей соответствует номеру соответствующего движения (движений всего 6) \n",
    "# y_train = [[1,0,0,0,0,0], [1,0,0,0,0,0], [1,0,0,0,0,0], [1,0,0,0,0,0], [1,0,0,0,0,0],\n",
    "#            [0,1,0,0,0,0], [0,1,0,0,0,0], [0,1,0,0,0,0], [0,1,0,0,0,0],\n",
    "#            [0,0,1,0,0,0], [0,0,1,0,0,0], [0,0,1,0,0,0], [0,0,1,0,0,0],\n",
    "#            [0,0,0,1,0,0], [0,0,0,1,0,0], [0,0,0,1,0,0], [0,0,0,1,0,0],\n",
    "#            [0,0,0,0,1,0], [0,0,0,0,1,0], [0,0,0,0,1,0], [0,0,0,0,1,0],\n",
    "#            [0,0,0,0,0,1], [0,0,0,0,0,1], [0,0,0,0,0,1]]\n",
    "\n",
    "y_train = [0,0,0,0,1,1,1,1,2,2,2,2,3,3,3,3,4,4,4,4,5,5,5,5]\n",
    "y_train = np.array(y_train, dtype=np.float32)\n",
    "y_train = keras.utils.to_categorical(y_train)\n",
    "print(y_train)"
   ]
  },
  {
   "cell_type": "code",
   "execution_count": 204,
   "metadata": {
    "pycharm": {
     "name": "#%%\n"
    },
    "scrolled": false
   },
   "outputs": [
    {
     "name": "stdout",
     "output_type": "stream",
     "text": [
      "Model: \"sequential_or_what\"\n",
      "_________________________________________________________________\n",
      "Layer (type)                 Output Shape              Param #   \n",
      "=================================================================\n",
      "input_22 (InputLayer)        (None, 24, 159, 1)        0         \n",
      "_________________________________________________________________\n",
      "conv2d_1 (Conv2D)            (None, 22, 159, 24)       96        \n",
      "_________________________________________________________________\n",
      "dense_1 (Dense)              (None, 22, 159, 8)        200       \n",
      "_________________________________________________________________\n",
      "dropout_1 (Dropout)          (None, 22, 159, 8)        0         \n",
      "_________________________________________________________________\n",
      "flatten_1 (Flatten)          (None, 27984)             0         \n",
      "_________________________________________________________________\n",
      "dense_2 (Dense)              (None, 6)                 167910    \n",
      "=================================================================\n",
      "Total params: 168,206\n",
      "Trainable params: 168,206\n",
      "Non-trainable params: 0\n",
      "_________________________________________________________________\n"
     ]
    }
   ],
   "source": [
    "# другой вариант нейросети (сверточная)\n",
    "input = keras.Input(shape=(24,x_train.shape[2],1))\n",
    "inputs = layers.Convolution2D(24, input_shape=(24,), kernel_size=(3,1), activation=\"sigmoid\")(input)\n",
    "hidden1 = layers.Dense(8, activation=\"softmax\")(inputs)\n",
    "hidden1 = layers.Dropout(0.2)(hidden1)\n",
    "h1 = layers.Flatten()(hidden1)\n",
    "outputs = layers.Dense(6, activation=\"sigmoid\")(h1)\n",
    "\n",
    "seq_model = keras.Model(inputs=input, outputs=outputs, name=\"sequential_or_what\")\n",
    "seq_model.summary()\n"
   ]
  },
  {
   "cell_type": "code",
   "execution_count": 205,
   "metadata": {
    "pycharm": {
     "name": "#%%\n"
    }
   },
   "outputs": [],
   "source": [
    "seq_model.compile(\n",
    "    optimizer=keras.optimizers.Nadam(),\n",
    "    loss=keras.losses.BinaryCrossentropy(),\n",
    "    metrics=['accuracy']\n",
    ")"
   ]
  },
  {
   "cell_type": "code",
   "execution_count": 206,
   "metadata": {
    "pycharm": {
     "name": "#%%\n"
    },
    "scrolled": true
   },
   "outputs": [
    {
     "name": "stdout",
     "output_type": "stream",
     "text": [
      "Epoch 1/200\n",
      "24/24 [==============================] - 0s 20ms/step - loss: 1.2359 - accuracy: 0.7361\n",
      "Epoch 2/200\n",
      "24/24 [==============================] - 0s 7ms/step - loss: 1.0559 - accuracy: 0.7222\n",
      "Epoch 3/200\n",
      "24/24 [==============================] - 0s 7ms/step - loss: 1.1487 - accuracy: 0.6667\n",
      "Epoch 4/200\n",
      "24/24 [==============================] - 0s 8ms/step - loss: 0.9551 - accuracy: 0.7083\n",
      "Epoch 5/200\n",
      "24/24 [==============================] - 0s 7ms/step - loss: 0.9640 - accuracy: 0.7083\n",
      "Epoch 6/200\n",
      "24/24 [==============================] - 0s 7ms/step - loss: 0.8402 - accuracy: 0.7431\n",
      "Epoch 7/200\n",
      "24/24 [==============================] - 0s 8ms/step - loss: 0.8532 - accuracy: 0.7431\n",
      "Epoch 8/200\n",
      "24/24 [==============================] - 0s 7ms/step - loss: 0.8339 - accuracy: 0.7778\n",
      "Epoch 9/200\n",
      "24/24 [==============================] - 0s 8ms/step - loss: 0.8656 - accuracy: 0.7361: 0s - loss: 0.9613 - accuracy: 0.\n",
      "Epoch 10/200\n",
      "24/24 [==============================] - 0s 7ms/step - loss: 0.8047 - accuracy: 0.7431\n",
      "Epoch 11/200\n",
      "24/24 [==============================] - 0s 8ms/step - loss: 0.9080 - accuracy: 0.7431\n",
      "Epoch 12/200\n",
      "24/24 [==============================] - 0s 7ms/step - loss: 0.6873 - accuracy: 0.7917\n",
      "Epoch 13/200\n",
      "24/24 [==============================] - 0s 7ms/step - loss: 0.7268 - accuracy: 0.7986\n",
      "Epoch 14/200\n",
      "24/24 [==============================] - 0s 8ms/step - loss: 0.7206 - accuracy: 0.7639\n",
      "Epoch 15/200\n",
      "24/24 [==============================] - 0s 7ms/step - loss: 0.7345 - accuracy: 0.7431\n",
      "Epoch 16/200\n",
      "24/24 [==============================] - 0s 7ms/step - loss: 0.5880 - accuracy: 0.8056\n",
      "Epoch 17/200\n",
      "24/24 [==============================] - 0s 8ms/step - loss: 0.6296 - accuracy: 0.8403\n",
      "Epoch 18/200\n",
      "24/24 [==============================] - 0s 7ms/step - loss: 0.6265 - accuracy: 0.7847\n",
      "Epoch 19/200\n",
      "24/24 [==============================] - 0s 7ms/step - loss: 0.6884 - accuracy: 0.8056\n",
      "Epoch 20/200\n",
      "24/24 [==============================] - 0s 7ms/step - loss: 0.7002 - accuracy: 0.7778\n",
      "Epoch 21/200\n",
      "24/24 [==============================] - 0s 7ms/step - loss: 0.5943 - accuracy: 0.7986\n",
      "Epoch 22/200\n",
      "24/24 [==============================] - 0s 8ms/step - loss: 0.3950 - accuracy: 0.8681\n",
      "Epoch 23/200\n",
      "24/24 [==============================] - 0s 8ms/step - loss: 0.5519 - accuracy: 0.8333\n",
      "Epoch 24/200\n",
      "24/24 [==============================] - 0s 8ms/step - loss: 0.5689 - accuracy: 0.8056\n",
      "Epoch 25/200\n",
      "24/24 [==============================] - 0s 8ms/step - loss: 0.5121 - accuracy: 0.8333\n",
      "Epoch 26/200\n",
      "24/24 [==============================] - 0s 8ms/step - loss: 0.5084 - accuracy: 0.8611\n",
      "Epoch 27/200\n",
      "24/24 [==============================] - 0s 8ms/step - loss: 0.5285 - accuracy: 0.8333\n",
      "Epoch 28/200\n",
      "24/24 [==============================] - 0s 8ms/step - loss: 0.3663 - accuracy: 0.9028\n",
      "Epoch 29/200\n",
      "24/24 [==============================] - 0s 8ms/step - loss: 0.4773 - accuracy: 0.8333\n",
      "Epoch 30/200\n",
      "24/24 [==============================] - 0s 8ms/step - loss: 0.4759 - accuracy: 0.8542\n",
      "Epoch 31/200\n",
      "24/24 [==============================] - 0s 8ms/step - loss: 0.4541 - accuracy: 0.8611\n",
      "Epoch 32/200\n",
      "24/24 [==============================] - 0s 8ms/step - loss: 0.3183 - accuracy: 0.8958\n",
      "Epoch 33/200\n",
      "24/24 [==============================] - 0s 8ms/step - loss: 0.4441 - accuracy: 0.8542\n",
      "Epoch 34/200\n",
      "24/24 [==============================] - 0s 8ms/step - loss: 0.2348 - accuracy: 0.9028\n",
      "Epoch 35/200\n",
      "24/24 [==============================] - 0s 8ms/step - loss: 0.2944 - accuracy: 0.9167\n",
      "Epoch 36/200\n",
      "24/24 [==============================] - 0s 8ms/step - loss: 0.3895 - accuracy: 0.8611\n",
      "Epoch 37/200\n",
      "24/24 [==============================] - 0s 8ms/step - loss: 0.3667 - accuracy: 0.8750\n",
      "Epoch 38/200\n",
      "24/24 [==============================] - 0s 8ms/step - loss: 0.3031 - accuracy: 0.9028\n",
      "Epoch 39/200\n",
      "24/24 [==============================] - 0s 8ms/step - loss: 0.2293 - accuracy: 0.9236\n",
      "Epoch 40/200\n",
      "24/24 [==============================] - 0s 7ms/step - loss: 0.2407 - accuracy: 0.9375\n",
      "Epoch 41/200\n",
      "24/24 [==============================] - 0s 8ms/step - loss: 0.2099 - accuracy: 0.9306\n",
      "Epoch 42/200\n",
      "24/24 [==============================] - 0s 8ms/step - loss: 0.2511 - accuracy: 0.9167\n",
      "Epoch 43/200\n",
      "24/24 [==============================] - 0s 8ms/step - loss: 0.2267 - accuracy: 0.9167\n",
      "Epoch 44/200\n",
      "24/24 [==============================] - 0s 7ms/step - loss: 0.1975 - accuracy: 0.9375\n",
      "Epoch 45/200\n",
      "24/24 [==============================] - 0s 8ms/step - loss: 0.1744 - accuracy: 0.9306\n",
      "Epoch 46/200\n",
      "24/24 [==============================] - 0s 8ms/step - loss: 0.1622 - accuracy: 0.9375\n",
      "Epoch 47/200\n",
      "24/24 [==============================] - 0s 8ms/step - loss: 0.1450 - accuracy: 0.9375\n",
      "Epoch 48/200\n",
      "24/24 [==============================] - 0s 8ms/step - loss: 0.1990 - accuracy: 0.9375\n",
      "Epoch 49/200\n",
      "24/24 [==============================] - 0s 8ms/step - loss: 0.1379 - accuracy: 0.9444: 0s - loss: 0.1454 - accuracy: 0.93\n",
      "Epoch 50/200\n",
      "24/24 [==============================] - 0s 8ms/step - loss: 0.1227 - accuracy: 0.9583\n",
      "Epoch 51/200\n",
      "24/24 [==============================] - 0s 8ms/step - loss: 0.1397 - accuracy: 0.9444\n",
      "Epoch 52/200\n",
      "24/24 [==============================] - 0s 8ms/step - loss: 0.1707 - accuracy: 0.9444\n",
      "Epoch 53/200\n",
      "24/24 [==============================] - 0s 8ms/step - loss: 0.1709 - accuracy: 0.9444\n",
      "Epoch 54/200\n",
      "24/24 [==============================] - 0s 8ms/step - loss: 0.1015 - accuracy: 0.9722\n",
      "Epoch 55/200\n",
      "24/24 [==============================] - 0s 8ms/step - loss: 0.1141 - accuracy: 0.9583\n",
      "Epoch 56/200\n",
      "24/24 [==============================] - 0s 8ms/step - loss: 0.1733 - accuracy: 0.9444\n",
      "Epoch 57/200\n",
      "24/24 [==============================] - 0s 8ms/step - loss: 0.0834 - accuracy: 0.9583\n",
      "Epoch 58/200\n",
      "24/24 [==============================] - 0s 8ms/step - loss: 0.0431 - accuracy: 0.9931\n",
      "Epoch 59/200\n",
      "24/24 [==============================] - 0s 8ms/step - loss: 0.0754 - accuracy: 0.9722\n",
      "Epoch 60/200\n",
      "24/24 [==============================] - 0s 8ms/step - loss: 0.0941 - accuracy: 0.9722\n",
      "Epoch 61/200\n",
      "24/24 [==============================] - 0s 8ms/step - loss: 0.0900 - accuracy: 0.9583\n",
      "Epoch 62/200\n",
      "24/24 [==============================] - 0s 8ms/step - loss: 0.1472 - accuracy: 0.9444\n",
      "Epoch 63/200\n",
      "24/24 [==============================] - 0s 8ms/step - loss: 0.0588 - accuracy: 0.9653\n",
      "Epoch 64/200\n",
      "24/24 [==============================] - 0s 8ms/step - loss: 0.1145 - accuracy: 0.9653\n",
      "Epoch 65/200\n",
      "24/24 [==============================] - 0s 8ms/step - loss: 0.0796 - accuracy: 0.9653: 0s - loss: 0.0886 - accuracy: 0.\n",
      "Epoch 66/200\n",
      "24/24 [==============================] - 0s 8ms/step - loss: 0.0801 - accuracy: 0.9722\n",
      "Epoch 67/200\n",
      "24/24 [==============================] - 0s 8ms/step - loss: 0.1047 - accuracy: 0.9792\n",
      "Epoch 68/200\n",
      "24/24 [==============================] - 0s 8ms/step - loss: 0.0267 - accuracy: 0.9931\n",
      "Epoch 69/200\n",
      "24/24 [==============================] - 0s 8ms/step - loss: 0.0121 - accuracy: 1.0000\n",
      "Epoch 70/200\n",
      "24/24 [==============================] - 0s 8ms/step - loss: 0.0399 - accuracy: 0.9861\n",
      "Epoch 71/200\n",
      "24/24 [==============================] - 0s 8ms/step - loss: 0.0462 - accuracy: 0.9792\n",
      "Epoch 72/200\n",
      "24/24 [==============================] - 0s 8ms/step - loss: 0.0678 - accuracy: 0.9792\n",
      "Epoch 73/200\n",
      "24/24 [==============================] - 0s 8ms/step - loss: 0.0640 - accuracy: 0.9722\n",
      "Epoch 74/200\n",
      "24/24 [==============================] - 0s 8ms/step - loss: 0.0642 - accuracy: 0.9792\n",
      "Epoch 75/200\n",
      "24/24 [==============================] - 0s 8ms/step - loss: 0.0632 - accuracy: 0.9653\n",
      "Epoch 76/200\n",
      "24/24 [==============================] - 0s 8ms/step - loss: 0.0887 - accuracy: 0.9861\n",
      "Epoch 77/200\n",
      "24/24 [==============================] - 0s 8ms/step - loss: 0.0513 - accuracy: 0.9792\n",
      "Epoch 78/200\n",
      "24/24 [==============================] - 0s 8ms/step - loss: 0.0186 - accuracy: 0.9931\n",
      "Epoch 79/200\n",
      "24/24 [==============================] - 0s 8ms/step - loss: 0.0134 - accuracy: 0.9931\n",
      "Epoch 80/200\n",
      "24/24 [==============================] - 0s 8ms/step - loss: 0.0069 - accuracy: 1.0000\n",
      "Epoch 81/200\n"
     ]
    },
    {
     "name": "stdout",
     "output_type": "stream",
     "text": [
      "24/24 [==============================] - 0s 8ms/step - loss: 0.0119 - accuracy: 1.0000\n",
      "Epoch 82/200\n",
      "24/24 [==============================] - 0s 8ms/step - loss: 0.0079 - accuracy: 1.0000\n",
      "Epoch 83/200\n",
      "24/24 [==============================] - 0s 8ms/step - loss: 0.0112 - accuracy: 1.0000\n",
      "Epoch 84/200\n",
      "24/24 [==============================] - 0s 8ms/step - loss: 0.0038 - accuracy: 1.0000\n",
      "Epoch 85/200\n",
      "24/24 [==============================] - 0s 8ms/step - loss: 0.0059 - accuracy: 1.0000\n",
      "Epoch 86/200\n",
      "24/24 [==============================] - 0s 8ms/step - loss: 0.0071 - accuracy: 1.0000\n",
      "Epoch 87/200\n",
      "24/24 [==============================] - 0s 8ms/step - loss: 0.0064 - accuracy: 1.0000\n",
      "Epoch 88/200\n",
      "24/24 [==============================] - 0s 8ms/step - loss: 0.0070 - accuracy: 1.0000\n",
      "Epoch 89/200\n",
      "24/24 [==============================] - 0s 8ms/step - loss: 0.0073 - accuracy: 1.0000\n",
      "Epoch 90/200\n",
      "24/24 [==============================] - 0s 8ms/step - loss: 0.0436 - accuracy: 0.9861\n",
      "Epoch 91/200\n",
      "24/24 [==============================] - 0s 8ms/step - loss: 0.0122 - accuracy: 0.9931\n",
      "Epoch 92/200\n",
      "24/24 [==============================] - 0s 8ms/step - loss: 0.0241 - accuracy: 0.9931\n",
      "Epoch 93/200\n",
      "24/24 [==============================] - 0s 8ms/step - loss: 0.0082 - accuracy: 1.0000\n",
      "Epoch 94/200\n",
      "24/24 [==============================] - 0s 8ms/step - loss: 0.0265 - accuracy: 0.9861\n",
      "Epoch 95/200\n",
      "24/24 [==============================] - 0s 8ms/step - loss: 0.0126 - accuracy: 1.0000\n",
      "Epoch 96/200\n",
      "24/24 [==============================] - 0s 7ms/step - loss: 0.0057 - accuracy: 1.0000TA: 0s - loss: 0.0052 - accuracy: 1.00\n",
      "Epoch 97/200\n",
      "24/24 [==============================] - 0s 8ms/step - loss: 0.0200 - accuracy: 0.9861\n",
      "Epoch 98/200\n",
      "24/24 [==============================] - 0s 8ms/step - loss: 0.0121 - accuracy: 1.0000\n",
      "Epoch 99/200\n",
      "24/24 [==============================] - 0s 7ms/step - loss: 0.0059 - accuracy: 1.0000\n",
      "Epoch 100/200\n",
      "24/24 [==============================] - 0s 8ms/step - loss: 0.1288 - accuracy: 0.9653\n",
      "Epoch 101/200\n",
      "24/24 [==============================] - 0s 7ms/step - loss: 0.1093 - accuracy: 0.9722\n",
      "Epoch 102/200\n",
      "24/24 [==============================] - 0s 8ms/step - loss: 0.0068 - accuracy: 1.0000\n",
      "Epoch 103/200\n",
      "24/24 [==============================] - 0s 8ms/step - loss: 0.0349 - accuracy: 0.9861\n",
      "Epoch 104/200\n",
      "24/24 [==============================] - 0s 8ms/step - loss: 0.0090 - accuracy: 1.0000\n",
      "Epoch 105/200\n",
      "24/24 [==============================] - 0s 7ms/step - loss: 0.0095 - accuracy: 1.0000\n",
      "Epoch 106/200\n",
      "24/24 [==============================] - 0s 8ms/step - loss: 0.0320 - accuracy: 0.9861\n",
      "Epoch 107/200\n",
      "24/24 [==============================] - 0s 8ms/step - loss: 0.0487 - accuracy: 0.9792\n",
      "Epoch 108/200\n",
      "24/24 [==============================] - 0s 8ms/step - loss: 0.0247 - accuracy: 0.9931\n",
      "Epoch 109/200\n",
      "24/24 [==============================] - 0s 8ms/step - loss: 0.0306 - accuracy: 0.9861\n",
      "Epoch 110/200\n",
      "24/24 [==============================] - 0s 8ms/step - loss: 0.0950 - accuracy: 0.9722\n",
      "Epoch 111/200\n",
      "24/24 [==============================] - 0s 8ms/step - loss: 0.0397 - accuracy: 0.9792\n",
      "Epoch 112/200\n",
      "24/24 [==============================] - 0s 8ms/step - loss: 0.0614 - accuracy: 0.9931\n",
      "Epoch 113/200\n",
      "24/24 [==============================] - 0s 9ms/step - loss: 0.1287 - accuracy: 0.9722\n",
      "Epoch 114/200\n",
      "24/24 [==============================] - 0s 8ms/step - loss: 0.0635 - accuracy: 0.9792\n",
      "Epoch 115/200\n",
      "24/24 [==============================] - 0s 8ms/step - loss: 0.0338 - accuracy: 0.9931\n",
      "Epoch 116/200\n",
      "24/24 [==============================] - 0s 8ms/step - loss: 0.0912 - accuracy: 0.9861\n",
      "Epoch 117/200\n",
      "24/24 [==============================] - 0s 8ms/step - loss: 0.0450 - accuracy: 0.9861\n",
      "Epoch 118/200\n",
      "24/24 [==============================] - 0s 8ms/step - loss: 0.0039 - accuracy: 1.0000\n",
      "Epoch 119/200\n",
      "24/24 [==============================] - 0s 8ms/step - loss: 0.0076 - accuracy: 0.9931\n",
      "Epoch 120/200\n",
      "24/24 [==============================] - 0s 8ms/step - loss: 0.0608 - accuracy: 0.9792\n",
      "Epoch 121/200\n",
      "24/24 [==============================] - 0s 8ms/step - loss: 0.1086 - accuracy: 0.9861\n",
      "Epoch 122/200\n",
      "24/24 [==============================] - 0s 8ms/step - loss: 0.0096 - accuracy: 0.9931\n",
      "Epoch 123/200\n",
      "24/24 [==============================] - 0s 9ms/step - loss: 0.0900 - accuracy: 0.9792\n",
      "Epoch 124/200\n",
      "24/24 [==============================] - 0s 8ms/step - loss: 0.0779 - accuracy: 0.9861\n",
      "Epoch 125/200\n",
      "24/24 [==============================] - 0s 8ms/step - loss: 0.0171 - accuracy: 0.9931\n",
      "Epoch 126/200\n",
      "24/24 [==============================] - 0s 9ms/step - loss: 0.0064 - accuracy: 0.9931\n",
      "Epoch 127/200\n",
      "24/24 [==============================] - 0s 8ms/step - loss: 9.4908e-04 - accuracy: 1.0000\n",
      "Epoch 128/200\n",
      "24/24 [==============================] - 0s 8ms/step - loss: 9.7396e-04 - accuracy: 1.0000\n",
      "Epoch 129/200\n",
      "24/24 [==============================] - 0s 8ms/step - loss: 0.0013 - accuracy: 1.0000\n",
      "Epoch 130/200\n",
      "24/24 [==============================] - 0s 8ms/step - loss: 0.0013 - accuracy: 1.0000\n",
      "Epoch 131/200\n",
      "24/24 [==============================] - 0s 8ms/step - loss: 0.0053 - accuracy: 1.0000\n",
      "Epoch 132/200\n",
      "24/24 [==============================] - 0s 8ms/step - loss: 0.0020 - accuracy: 1.0000\n",
      "Epoch 133/200\n",
      "24/24 [==============================] - 0s 8ms/step - loss: 0.0022 - accuracy: 1.0000\n",
      "Epoch 134/200\n",
      "24/24 [==============================] - 0s 8ms/step - loss: 0.0014 - accuracy: 1.0000\n",
      "Epoch 135/200\n",
      "24/24 [==============================] - 0s 8ms/step - loss: 0.0015 - accuracy: 1.0000: 0s - loss: 0.0013 - accuracy: 1.\n",
      "Epoch 136/200\n",
      "24/24 [==============================] - 0s 8ms/step - loss: 0.0015 - accuracy: 1.0000\n",
      "Epoch 137/200\n",
      "24/24 [==============================] - 0s 8ms/step - loss: 9.4702e-04 - accuracy: 1.0000\n",
      "Epoch 138/200\n",
      "24/24 [==============================] - 0s 7ms/step - loss: 0.0010 - accuracy: 1.0000\n",
      "Epoch 139/200\n",
      "24/24 [==============================] - 0s 8ms/step - loss: 8.2494e-04 - accuracy: 1.0000\n",
      "Epoch 140/200\n",
      "24/24 [==============================] - 0s 8ms/step - loss: 0.0016 - accuracy: 1.0000\n",
      "Epoch 141/200\n",
      "24/24 [==============================] - 0s 8ms/step - loss: 0.0011 - accuracy: 1.0000\n",
      "Epoch 142/200\n",
      "24/24 [==============================] - 0s 8ms/step - loss: 9.7029e-04 - accuracy: 1.0000\n",
      "Epoch 143/200\n",
      "24/24 [==============================] - 0s 8ms/step - loss: 8.3959e-04 - accuracy: 1.0000\n",
      "Epoch 144/200\n",
      "24/24 [==============================] - 0s 8ms/step - loss: 9.3461e-04 - accuracy: 1.0000\n",
      "Epoch 145/200\n",
      "24/24 [==============================] - 0s 8ms/step - loss: 0.0011 - accuracy: 1.0000\n",
      "Epoch 146/200\n",
      "24/24 [==============================] - 0s 9ms/step - loss: 0.0015 - accuracy: 1.0000\n",
      "Epoch 147/200\n",
      "24/24 [==============================] - 0s 8ms/step - loss: 6.3458e-04 - accuracy: 1.0000\n",
      "Epoch 148/200\n",
      "24/24 [==============================] - 0s 8ms/step - loss: 8.0170e-04 - accuracy: 1.0000\n",
      "Epoch 149/200\n",
      "24/24 [==============================] - 0s 8ms/step - loss: 7.4399e-04 - accuracy: 1.0000\n",
      "Epoch 150/200\n",
      "24/24 [==============================] - 0s 8ms/step - loss: 0.0012 - accuracy: 1.0000\n",
      "Epoch 151/200\n",
      "24/24 [==============================] - 0s 8ms/step - loss: 0.0126 - accuracy: 0.9931\n",
      "Epoch 152/200\n",
      "24/24 [==============================] - 0s 8ms/step - loss: 0.0072 - accuracy: 1.0000\n",
      "Epoch 153/200\n",
      "24/24 [==============================] - 0s 8ms/step - loss: 0.0014 - accuracy: 1.0000\n",
      "Epoch 154/200\n",
      "24/24 [==============================] - 0s 8ms/step - loss: 0.0010 - accuracy: 1.0000\n",
      "Epoch 155/200\n",
      "24/24 [==============================] - 0s 8ms/step - loss: 6.6676e-04 - accuracy: 1.0000\n",
      "Epoch 156/200\n",
      "24/24 [==============================] - 0s 8ms/step - loss: 6.4497e-04 - accuracy: 1.0000\n",
      "Epoch 157/200\n",
      "24/24 [==============================] - 0s 8ms/step - loss: 5.6561e-04 - accuracy: 1.0000\n",
      "Epoch 158/200\n",
      "24/24 [==============================] - 0s 8ms/step - loss: 8.9705e-04 - accuracy: 1.0000\n",
      "Epoch 159/200\n",
      "24/24 [==============================] - 0s 8ms/step - loss: 0.0048 - accuracy: 1.0000\n",
      "Epoch 160/200\n",
      "24/24 [==============================] - 0s 8ms/step - loss: 6.6500e-04 - accuracy: 1.0000\n",
      "Epoch 161/200\n"
     ]
    },
    {
     "name": "stdout",
     "output_type": "stream",
     "text": [
      "24/24 [==============================] - 0s 8ms/step - loss: 7.0902e-04 - accuracy: 1.0000\n",
      "Epoch 162/200\n",
      "24/24 [==============================] - 0s 8ms/step - loss: 6.3799e-04 - accuracy: 1.0000\n",
      "Epoch 163/200\n",
      "24/24 [==============================] - 0s 8ms/step - loss: 4.0941e-04 - accuracy: 1.0000\n",
      "Epoch 164/200\n",
      "24/24 [==============================] - 0s 8ms/step - loss: 5.6677e-04 - accuracy: 1.0000\n",
      "Epoch 165/200\n",
      "24/24 [==============================] - 0s 7ms/step - loss: 8.1294e-04 - accuracy: 1.0000\n",
      "Epoch 166/200\n",
      "24/24 [==============================] - 0s 8ms/step - loss: 6.3682e-04 - accuracy: 1.0000\n",
      "Epoch 167/200\n",
      "24/24 [==============================] - 0s 8ms/step - loss: 6.4789e-04 - accuracy: 1.0000\n",
      "Epoch 168/200\n",
      "24/24 [==============================] - 0s 8ms/step - loss: 5.6087e-04 - accuracy: 1.0000\n",
      "Epoch 169/200\n",
      "24/24 [==============================] - 0s 7ms/step - loss: 9.3944e-04 - accuracy: 1.0000\n",
      "Epoch 170/200\n",
      "24/24 [==============================] - 0s 8ms/step - loss: 8.1352e-04 - accuracy: 1.0000\n",
      "Epoch 171/200\n",
      "24/24 [==============================] - 0s 8ms/step - loss: 4.6263e-04 - accuracy: 1.0000\n",
      "Epoch 172/200\n",
      "24/24 [==============================] - 0s 8ms/step - loss: 4.6183e-04 - accuracy: 1.0000\n",
      "Epoch 173/200\n",
      "24/24 [==============================] - 0s 8ms/step - loss: 0.0011 - accuracy: 1.0000\n",
      "Epoch 174/200\n",
      "24/24 [==============================] - 0s 8ms/step - loss: 5.8786e-04 - accuracy: 1.0000\n",
      "Epoch 175/200\n",
      "24/24 [==============================] - 0s 8ms/step - loss: 7.3017e-04 - accuracy: 1.0000\n",
      "Epoch 176/200\n",
      "24/24 [==============================] - 0s 8ms/step - loss: 0.0013 - accuracy: 1.0000\n",
      "Epoch 177/200\n",
      "24/24 [==============================] - 0s 8ms/step - loss: 6.0332e-04 - accuracy: 1.0000\n",
      "Epoch 178/200\n",
      "24/24 [==============================] - 0s 8ms/step - loss: 7.5221e-04 - accuracy: 1.0000\n",
      "Epoch 179/200\n",
      "24/24 [==============================] - 0s 8ms/step - loss: 4.0980e-04 - accuracy: 1.0000\n",
      "Epoch 180/200\n",
      "24/24 [==============================] - 0s 8ms/step - loss: 9.1207e-04 - accuracy: 1.0000\n",
      "Epoch 181/200\n",
      "24/24 [==============================] - 0s 8ms/step - loss: 6.3992e-04 - accuracy: 1.0000: 0s - loss: 4.5241e-04 - accuracy: 1.\n",
      "Epoch 182/200\n",
      "24/24 [==============================] - 0s 8ms/step - loss: 4.8292e-04 - accuracy: 1.0000\n",
      "Epoch 183/200\n",
      "24/24 [==============================] - 0s 8ms/step - loss: 5.1369e-04 - accuracy: 1.0000\n",
      "Epoch 184/200\n",
      "24/24 [==============================] - 0s 8ms/step - loss: 3.0802e-04 - accuracy: 1.0000\n",
      "Epoch 185/200\n",
      "24/24 [==============================] - 0s 8ms/step - loss: 3.7515e-04 - accuracy: 1.0000\n",
      "Epoch 186/200\n",
      "24/24 [==============================] - 0s 8ms/step - loss: 3.6747e-04 - accuracy: 1.0000\n",
      "Epoch 187/200\n",
      "24/24 [==============================] - 0s 8ms/step - loss: 3.7503e-04 - accuracy: 1.0000\n",
      "Epoch 188/200\n",
      "24/24 [==============================] - 0s 7ms/step - loss: 4.0685e-04 - accuracy: 1.0000\n",
      "Epoch 189/200\n",
      "24/24 [==============================] - 0s 8ms/step - loss: 3.4337e-04 - accuracy: 1.0000\n",
      "Epoch 190/200\n",
      "24/24 [==============================] - 0s 8ms/step - loss: 4.1386e-04 - accuracy: 1.0000\n",
      "Epoch 191/200\n",
      "24/24 [==============================] - 0s 8ms/step - loss: 3.6053e-04 - accuracy: 1.0000\n",
      "Epoch 192/200\n",
      "24/24 [==============================] - 0s 8ms/step - loss: 5.6221e-04 - accuracy: 1.0000: 0s - loss: 3.1053e-04 - accuracy: \n",
      "Epoch 193/200\n",
      "24/24 [==============================] - 0s 8ms/step - loss: 6.1263e-04 - accuracy: 1.0000\n",
      "Epoch 194/200\n",
      "24/24 [==============================] - 0s 8ms/step - loss: 3.9570e-04 - accuracy: 1.0000\n",
      "Epoch 195/200\n",
      "24/24 [==============================] - 0s 8ms/step - loss: 4.5245e-04 - accuracy: 1.0000\n",
      "Epoch 196/200\n",
      "24/24 [==============================] - 0s 8ms/step - loss: 2.6275e-04 - accuracy: 1.0000\n",
      "Epoch 197/200\n",
      "24/24 [==============================] - 0s 8ms/step - loss: 3.9220e-04 - accuracy: 1.0000\n",
      "Epoch 198/200\n",
      "24/24 [==============================] - 0s 8ms/step - loss: 3.7975e-04 - accuracy: 1.0000\n",
      "Epoch 199/200\n",
      "24/24 [==============================] - 0s 7ms/step - loss: 3.8096e-04 - accuracy: 1.0000\n",
      "Epoch 200/200\n",
      "24/24 [==============================] - 0s 8ms/step - loss: 4.2896e-04 - accuracy: 1.0000\n"
     ]
    },
    {
     "data": {
      "text/plain": [
       "<keras.callbacks.callbacks.History at 0x13185e3bf28>"
      ]
     },
     "execution_count": 206,
     "metadata": {},
     "output_type": "execute_result"
    }
   ],
   "source": [
    "seq_model.fit(x_train,y_train,epochs=200,batch_size=1)"
   ]
  },
  {
   "cell_type": "code",
   "execution_count": 207,
   "metadata": {
    "pycharm": {
     "name": "#%%\n"
    }
   },
   "outputs": [
    {
     "name": "stdout",
     "output_type": "stream",
     "text": [
      "[9.6182770e-01 6.2251279e-06 4.4706944e-01 2.9892047e-04 5.2881088e-11\n",
      " 2.0557371e-15]\n",
      "96.18 % this is move №  1\n"
     ]
    }
   ],
   "source": [
    "predictArr = seq_model.predict(predict_move_1)\n",
    "print(predictArr[0])\n",
    "\n",
    "maxPercentage = 0\n",
    "for i in enumerate(predictArr[0]):\n",
    "    if(i[1]>maxPercentage):\n",
    "        maxPercentage=i[1]\n",
    "        move=i[0]+1     \n",
    "print(round(maxPercentage*100, 2),\"% this is move № \", move)"
   ]
  },
  {
   "cell_type": "code",
   "execution_count": 208,
   "metadata": {
    "pycharm": {
     "name": "#%%\n"
    }
   },
   "outputs": [
    {
     "name": "stdout",
     "output_type": "stream",
     "text": [
      "[1.8814696e-06 9.9805826e-01 4.1145879e-05 5.1128232e-08 6.3118744e-10\n",
      " 1.6417458e-07]\n",
      "99.81 % this is move №  2\n"
     ]
    }
   ],
   "source": [
    "predictArr = seq_model.predict(predict_move_2)\n",
    "print(predictArr[0])\n",
    "\n",
    "maxPercentage = 0\n",
    "for i in enumerate(predictArr[0]):\n",
    "    if(i[1]>maxPercentage):\n",
    "        maxPercentage=i[1]\n",
    "        move=i[0]+1     \n",
    "print(round(maxPercentage*100, 2),\"% this is move № \", move)"
   ]
  },
  {
   "cell_type": "code",
   "execution_count": 209,
   "metadata": {
    "pycharm": {
     "name": "#%%\n"
    }
   },
   "outputs": [
    {
     "name": "stdout",
     "output_type": "stream",
     "text": [
      "[5.6370940e-14 1.5894412e-06 4.5105279e-04 7.2422512e-07 9.9999440e-01\n",
      " 1.8508417e-19]\n",
      "100.0 % this is move №  5\n"
     ]
    }
   ],
   "source": [
    "predictArr = seq_model.predict(predict_move_3)\n",
    "print(predictArr[0])\n",
    "\n",
    "maxPercentage = 0\n",
    "for i in enumerate(predictArr[0]):\n",
    "    if(i[1]>maxPercentage):\n",
    "        maxPercentage=i[1]\n",
    "        move=i[0]+1     \n",
    "print(round(maxPercentage*100, 2),\"% this is move № \", move)"
   ]
  },
  {
   "cell_type": "code",
   "execution_count": 210,
   "metadata": {
    "pycharm": {
     "name": "#%%\n"
    }
   },
   "outputs": [
    {
     "name": "stdout",
     "output_type": "stream",
     "text": [
      "[1.5167090e-04 3.1395169e-09 1.4401225e-03 9.9923217e-01 1.8135266e-05\n",
      " 3.2402168e-11]\n",
      "99.92 % this is move №  4\n"
     ]
    }
   ],
   "source": [
    "predictArr = seq_model.predict(predict_move_4)\n",
    "print(predictArr[0])\n",
    "\n",
    "maxPercentage = 0\n",
    "for i in enumerate(predictArr[0]):\n",
    "    if(i[1]>maxPercentage):\n",
    "        maxPercentage=i[1]\n",
    "        move=i[0]+1     \n",
    "print(round(maxPercentage*100, 2),\"% this is move № \", move)"
   ]
  },
  {
   "cell_type": "code",
   "execution_count": 211,
   "metadata": {
    "pycharm": {
     "name": "#%%\n"
    }
   },
   "outputs": [
    {
     "name": "stdout",
     "output_type": "stream",
     "text": [
      "[5.9898070e-04 8.4135534e-09 3.9229371e-07 3.0496810e-04 9.9956232e-01\n",
      " 2.2745204e-16]\n",
      "99.96 % this is move №  5\n"
     ]
    }
   ],
   "source": [
    "predictArr = seq_model.predict(predict_move_5)\n",
    "print(predictArr[0])\n",
    "\n",
    "maxPercentage = 0\n",
    "for i in enumerate(predictArr[0]):\n",
    "    if(i[1]>maxPercentage):\n",
    "        maxPercentage=i[1]\n",
    "        move=i[0]+1     \n",
    "print(round(maxPercentage*100, 2),\"% this is move № \", move)"
   ]
  },
  {
   "cell_type": "code",
   "execution_count": 212,
   "metadata": {
    "pycharm": {
     "name": "#%%\n"
    }
   },
   "outputs": [
    {
     "name": "stdout",
     "output_type": "stream",
     "text": [
      "[1.7600589e-12 6.3872898e-01 6.7289980e-06 2.9334251e-06 2.6670715e-09\n",
      " 6.9082993e-01]\n",
      "69.08 % this is move №  6\n"
     ]
    }
   ],
   "source": [
    "predictArr = seq_model.predict(predict_move_6)\n",
    "print(predictArr[0])\n",
    "\n",
    "maxPercentage = 0\n",
    "for i in enumerate(predictArr[0]):\n",
    "    if(i[1]>maxPercentage):\n",
    "        maxPercentage=i[1]\n",
    "        move=i[0]+1     \n",
    "print(round(maxPercentage*100, 2),\"% this is move № \", move)"
   ]
  },
  {
   "cell_type": "code",
   "execution_count": null,
   "metadata": {},
   "outputs": [],
   "source": []
  },
  {
   "cell_type": "code",
   "execution_count": 213,
   "metadata": {},
   "outputs": [],
   "source": [
    "model_json = seq_model.to_json()\n",
    "with open(\"C:\\\\Users\\\\NoMad\\\\PycharmProjects\\\\SANEM\\\\model\\\\1model.json\", \"w\") as json_file:\n",
    "    json_file.write(model_json)\n",
    "seq_model.save_weights(\"C:\\\\Users\\\\NoMad\\\\PycharmProjects\\\\SANEM\\\\model\\\\1weights.h5\")"
   ]
  },
  {
   "cell_type": "code",
   "execution_count": null,
   "metadata": {},
   "outputs": [],
   "source": []
  }
 ],
 "metadata": {
  "kernelspec": {
   "display_name": "Python 3",
   "language": "python",
   "name": "python3"
  },
  "language_info": {
   "codemirror_mode": {
    "name": "ipython",
    "version": 3
   },
   "file_extension": ".py",
   "mimetype": "text/x-python",
   "name": "python",
   "nbconvert_exporter": "python",
   "pygments_lexer": "ipython3",
   "version": "3.7.0"
  },
  "pycharm": {
   "stem_cell": {
    "cell_type": "raw",
    "metadata": {
     "collapsed": false
    },
    "source": []
   }
  }
 },
 "nbformat": 4,
 "nbformat_minor": 1
}
