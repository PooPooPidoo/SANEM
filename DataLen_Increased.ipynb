{
 "cells": [
  {
   "cell_type": "code",
   "execution_count": 11,
   "metadata": {},
   "outputs": [],
   "source": [
    "import numpy as np\n",
    "import os\n",
    "import pandas as pd\n",
    "import tensorflow as tf\n",
    "import matplotlib\n",
    "from tensorflow import keras\n",
    "from tensorflow.keras import layers"
   ]
  },
  {
   "cell_type": "code",
   "execution_count": 12,
   "metadata": {
    "pycharm": {
     "name": "#%%\n"
    }
   },
   "outputs": [],
   "source": [
    "data_path = os.chdir(\"C:\\\\Users\\\\NoMad\\\\PycharmProjects\\\\SANEM\\\\movements\")"
   ]
  },
  {
   "cell_type": "code",
   "execution_count": 13,
   "metadata": {
    "pycharm": {
     "name": "#%%\n"
    }
   },
   "outputs": [
    {
     "name": "stdout",
     "output_type": "stream",
     "text": [
      "(24, 24, 159)\n"
     ]
    }
   ],
   "source": [
    "# другой вариант таблицы, где 25 - число движений, 24 - число пространственных переменных, n - число моментов, потребовавшихся для записи движения\n",
    "# (25, 24, n)\n",
    "maxlen = 0\n",
    "flag = False\n",
    "for i in range(1,7):\n",
    "    for j in range(1,10):\n",
    "        data1 = np.array(pd.read_csv(f\"m0{i}_s0{j}_e01_positions.txt\", sep=','))\n",
    "        data1 = np.array([data1[:, 42:].transpose()])\n",
    "        if(maxlen<data1.shape[2]):\n",
    "            maxlen = data1.shape[2]\n",
    "\n",
    "for i in range(1,7):\n",
    "    for j in range(1,5):\n",
    "        if(flag==False):\n",
    "            data1 = np.array(pd.read_csv(f\"m0{i}_s0{j}_e01_positions.txt\", sep=','))\n",
    "            data1 = np.array([data1[:, 42:].transpose()])\n",
    "            x_train = np.zeros((data1.shape[0],data1.shape[1],maxlen))\n",
    "            x_train[:data1.shape[0],:data1.shape[1],:data1.shape[2]] = data1\n",
    "            flag=True\n",
    "            continue\n",
    "        data1 = np.array(pd.read_csv(f\"m0{i}_s0{j}_e01_positions.txt\", sep=','))\n",
    "        data1 = np.array([data1[:, 42:].transpose()])\n",
    "        if(data1.shape[2]<maxlen):\n",
    "            newdata = np.zeros((data1.shape[0],data1.shape[1],maxlen))\n",
    "            newdata[:data1.shape[0],:data1.shape[1],:data1.shape[2]] = data1\n",
    "            x_train = np.append(x_train, newdata, axis=0)\n",
    "        elif(data1.shape[2]==maxlen):\n",
    "            x_train = np.append(x_train, data1, axis=0)\n",
    "\n",
    "print(x_train.shape)"
   ]
  },
  {
   "cell_type": "code",
   "execution_count": 14,
   "metadata": {
    "pycharm": {
     "name": "#%%\n"
    }
   },
   "outputs": [
    {
     "name": "stdout",
     "output_type": "stream",
     "text": [
      "(24, 24, 159, 1)\n"
     ]
    }
   ],
   "source": [
    "x_train = x_train.reshape(x_train.shape[0], 24, x_train.shape[2], 1)\n",
    "x_train = x_train.astype('float32')\n",
    "print(x_train.shape)"
   ]
  },
  {
   "cell_type": "code",
   "execution_count": 15,
   "metadata": {
    "pycharm": {
     "name": "#%%\n"
    }
   },
   "outputs": [
    {
     "name": "stdout",
     "output_type": "stream",
     "text": [
      "(1, 24, 159)\n",
      "predict_move_1 =  (1, 24, 159, 1)\n",
      "(1, 24, 159)\n",
      "predict_move_2 =  (1, 24, 159, 1)\n",
      "(1, 24, 159)\n",
      "predict_move_3 =  (1, 24, 159, 1)\n",
      "(1, 24, 159)\n",
      "predict_move_4 =  (1, 24, 159, 1)\n",
      "(1, 24, 159)\n",
      "predict_move_5 =  (1, 24, 159, 1)\n",
      "(1, 24, 159)\n",
      "predict_move_6 =  (1, 24, 159, 1)\n"
     ]
    }
   ],
   "source": [
    "# проверочные данные:\n",
    "predict_move_1 = np.array(pd.read_csv('m01_s01_e05_positions.txt', sep=','))\n",
    "predict_move_1 = np.array([predict_move_1[:x_train.shape[2], 42:].transpose()])\n",
    "if(predict_move_1.shape[2]<maxlen):\n",
    "    newdata = np.zeros((predict_move_1.shape[0],predict_move_1.shape[1],maxlen))\n",
    "    newdata[:predict_move_1.shape[0],:predict_move_1.shape[1],:predict_move_1.shape[2]] = predict_move_1\n",
    "    predict_move_1 = newdata\n",
    "print(predict_move_1.shape)\n",
    "predict_move_1 = predict_move_1.reshape(predict_move_1.shape[0], 24, predict_move_1.shape[2], 1)\n",
    "predict_move_1 = predict_move_1.astype('float32')\n",
    "print(\"predict_move_1 = \",predict_move_1.shape)\n",
    "\n",
    "predict_move_2 = np.array(pd.read_csv('m02_s01_e01_positions.txt', sep=','))\n",
    "predict_move_2 = np.array([predict_move_2[:x_train.shape[2], 42:].transpose()])\n",
    "if(predict_move_2.shape[2]<maxlen):\n",
    "    newdata = np.zeros((predict_move_2.shape[0],predict_move_2.shape[1],maxlen))\n",
    "    newdata[:predict_move_2.shape[0],:predict_move_2.shape[1],:predict_move_2.shape[2]] = predict_move_2\n",
    "    predict_move_2 = newdata\n",
    "print(predict_move_2.shape)\n",
    "predict_move_2 = predict_move_2.reshape(predict_move_2.shape[0], 24, predict_move_2.shape[2], 1)\n",
    "predict_move_2 = predict_move_2.astype('float32')\n",
    "print(\"predict_move_2 = \",predict_move_2.shape)\n",
    "\n",
    "predict_move_3 = np.array(pd.read_csv('m03_s02_e02_positions.txt', sep=','))\n",
    "predict_move_3 = np.array([predict_move_3[:x_train.shape[2], 42:].transpose()])\n",
    "if(predict_move_3.shape[2]<maxlen):\n",
    "    newdata = np.zeros((predict_move_3.shape[0],predict_move_3.shape[1],maxlen))\n",
    "    newdata[:predict_move_3.shape[0],:predict_move_3.shape[1],:predict_move_3.shape[2]] = predict_move_3\n",
    "    predict_move_3 = newdata\n",
    "print(predict_move_3.shape)\n",
    "predict_move_3 = predict_move_3.reshape(predict_move_3.shape[0], 24, predict_move_3.shape[2], 1)\n",
    "predict_move_3 = predict_move_3.astype('float32')\n",
    "print(\"predict_move_3 = \",predict_move_3.shape)\n",
    "\n",
    "predict_move_4 = np.array(pd.read_csv('m04_s01_e01_positions.txt', sep=','))\n",
    "predict_move_4 = np.array([predict_move_4[:x_train.shape[2], 42:].transpose()])\n",
    "if(predict_move_4.shape[2]<maxlen):\n",
    "    newdata = np.zeros((predict_move_4.shape[0],predict_move_4.shape[1],maxlen))\n",
    "    newdata[:predict_move_4.shape[0],:predict_move_4.shape[1],:predict_move_4.shape[2]] = predict_move_4\n",
    "    predict_move_4 = newdata\n",
    "print(predict_move_4.shape)\n",
    "predict_move_4 = predict_move_4.reshape(predict_move_4.shape[0], 24, predict_move_4.shape[2], 1)\n",
    "predict_move_4 = predict_move_4.astype('float32')\n",
    "print(\"predict_move_4 = \",predict_move_4.shape)\n",
    "\n",
    "predict_move_5 = np.array(pd.read_csv('m05_s01_e01_positions.txt', sep=','))\n",
    "predict_move_5 = np.array([predict_move_5[:x_train.shape[2], 42:].transpose()])\n",
    "if(predict_move_5.shape[2]<maxlen):\n",
    "    newdata = np.zeros((predict_move_5.shape[0],predict_move_5.shape[1],maxlen))\n",
    "    newdata[:predict_move_5.shape[0],:predict_move_5.shape[1],:predict_move_5.shape[2]] = predict_move_5\n",
    "    predict_move_5 = newdata\n",
    "print(predict_move_5.shape)\n",
    "predict_move_5 = predict_move_5.reshape(predict_move_5.shape[0], 24, predict_move_5.shape[2], 1)\n",
    "predict_move_5 = predict_move_5.astype('float32')\n",
    "print(\"predict_move_5 = \",predict_move_5.shape)\n",
    "\n",
    "predict_move_6 = np.array(pd.read_csv('m06_s01_e05_positions.txt', sep=','))\n",
    "predict_move_6 = np.array([predict_move_6[:x_train.shape[2], 42:].transpose()])\n",
    "if(predict_move_6.shape[2]<maxlen):\n",
    "    newdata = np.zeros((predict_move_6.shape[0],predict_move_6.shape[1],maxlen))\n",
    "    newdata[:predict_move_6.shape[0],:predict_move_6.shape[1],:predict_move_6.shape[2]] = predict_move_6\n",
    "    predict_move_6 = newdata\n",
    "print(predict_move_6.shape)\n",
    "predict_move_6 = predict_move_6.reshape(predict_move_6.shape[0], 24, predict_move_6.shape[2], 1)\n",
    "predict_move_6 = predict_move_6.astype('float32')\n",
    "print(\"predict_move_6 = \",predict_move_6.shape)"
   ]
  },
  {
   "cell_type": "code",
   "execution_count": 16,
   "metadata": {
    "pycharm": {
     "name": "#%%\n"
    }
   },
   "outputs": [
    {
     "name": "stdout",
     "output_type": "stream",
     "text": [
      "[[1. 0. 0. 0. 0. 0.]\n",
      " [1. 0. 0. 0. 0. 0.]\n",
      " [1. 0. 0. 0. 0. 0.]\n",
      " [1. 0. 0. 0. 0. 0.]\n",
      " [0. 1. 0. 0. 0. 0.]\n",
      " [0. 1. 0. 0. 0. 0.]\n",
      " [0. 1. 0. 0. 0. 0.]\n",
      " [0. 1. 0. 0. 0. 0.]\n",
      " [0. 0. 1. 0. 0. 0.]\n",
      " [0. 0. 1. 0. 0. 0.]\n",
      " [0. 0. 1. 0. 0. 0.]\n",
      " [0. 0. 1. 0. 0. 0.]\n",
      " [0. 0. 0. 1. 0. 0.]\n",
      " [0. 0. 0. 1. 0. 0.]\n",
      " [0. 0. 0. 1. 0. 0.]\n",
      " [0. 0. 0. 1. 0. 0.]\n",
      " [0. 0. 0. 0. 1. 0.]\n",
      " [0. 0. 0. 0. 1. 0.]\n",
      " [0. 0. 0. 0. 1. 0.]\n",
      " [0. 0. 0. 0. 1. 0.]\n",
      " [0. 0. 0. 0. 0. 1.]\n",
      " [0. 0. 0. 0. 0. 1.]\n",
      " [0. 0. 0. 0. 0. 1.]\n",
      " [0. 0. 0. 0. 0. 1.]]\n"
     ]
    }
   ],
   "source": [
    "# выходной набор данных. Столбец с единицей соответствует номеру соответствующего движения (движений всего 6) \n",
    "# y_train = [[1,0,0,0,0,0], [1,0,0,0,0,0], [1,0,0,0,0,0], [1,0,0,0,0,0], [1,0,0,0,0,0],\n",
    "#            [0,1,0,0,0,0], [0,1,0,0,0,0], [0,1,0,0,0,0], [0,1,0,0,0,0],\n",
    "#            [0,0,1,0,0,0], [0,0,1,0,0,0], [0,0,1,0,0,0], [0,0,1,0,0,0],\n",
    "#            [0,0,0,1,0,0], [0,0,0,1,0,0], [0,0,0,1,0,0], [0,0,0,1,0,0],\n",
    "#            [0,0,0,0,1,0], [0,0,0,0,1,0], [0,0,0,0,1,0], [0,0,0,0,1,0],\n",
    "#            [0,0,0,0,0,1], [0,0,0,0,0,1], [0,0,0,0,0,1]]\n",
    "\n",
    "y_train = [0,0,0,0,1,1,1,1,2,2,2,2,3,3,3,3,4,4,4,4,5,5,5,5]\n",
    "y_train = np.array(y_train, dtype=np.float32)\n",
    "y_train = keras.utils.to_categorical(y_train)\n",
    "print(y_train)"
   ]
  },
  {
   "cell_type": "code",
   "execution_count": 462,
   "metadata": {
    "pycharm": {
     "name": "#%%\n"
    }
   },
   "outputs": [
    {
     "name": "stdout",
     "output_type": "stream",
     "text": [
      "Model: \"sequential_or_what\"\n",
      "_________________________________________________________________\n",
      "Layer (type)                 Output Shape              Param #   \n",
      "=================================================================\n",
      "input_69 (InputLayer)        [(None, 24, 159, 1)]      0         \n",
      "_________________________________________________________________\n",
      "conv2d_68 (Conv2D)           (None, 22, 159, 24)       96        \n",
      "_________________________________________________________________\n",
      "dense_134 (Dense)            (None, 22, 159, 8)        200       \n",
      "_________________________________________________________________\n",
      "dropout_66 (Dropout)         (None, 22, 159, 8)        0         \n",
      "_________________________________________________________________\n",
      "flatten_66 (Flatten)         (None, 27984)             0         \n",
      "_________________________________________________________________\n",
      "dense_135 (Dense)            (None, 6)                 167910    \n",
      "=================================================================\n",
      "Total params: 168,206\n",
      "Trainable params: 168,206\n",
      "Non-trainable params: 0\n",
      "_________________________________________________________________\n"
     ]
    }
   ],
   "source": [
    "# другой вариант нейросети (сверточная)\n",
    "input = keras.Input(shape=(24,x_train.shape[2],1))\n",
    "inputs = layers.Convolution2D(24, input_shape=(24,), kernel_size=(3,1), activation=\"softmax\")(input)\n",
    "hidden1 = layers.Dense(8, activation=\"softmax\")(inputs)\n",
    "hidden1 = layers.Dropout(0.2)(hidden1)\n",
    "h1 = layers.Flatten()(hidden1)\n",
    "outputs = layers.Dense(6, activation=\"sigmoid\")(h1)\n",
    "\n",
    "seq_model = keras.Model(inputs=input, outputs=outputs, name=\"sequential_or_what\")\n",
    "seq_model.summary()\n"
   ]
  },
  {
   "cell_type": "code",
   "execution_count": 463,
   "metadata": {
    "pycharm": {
     "name": "#%%\n"
    }
   },
   "outputs": [],
   "source": [
    "seq_model.compile(\n",
    "    optimizer=keras.optimizers.Nadam(),\n",
    "    loss=keras.losses.BinaryCrossentropy(),\n",
    "    metrics=['accuracy']\n",
    ")"
   ]
  },
  {
   "cell_type": "code",
   "execution_count": 471,
   "metadata": {
    "pycharm": {
     "name": "#%%\n"
    },
    "scrolled": true
   },
   "outputs": [
    {
     "name": "stdout",
     "output_type": "stream",
     "text": [
      "Epoch 1/100\n",
      "12/12 [==============================] - 0s 12ms/step - loss: 0.1726 - accuracy: 0.8333\n",
      "Epoch 2/100\n",
      "12/12 [==============================] - 0s 12ms/step - loss: 0.1819 - accuracy: 0.7917\n",
      "Epoch 3/100\n",
      "12/12 [==============================] - 0s 12ms/step - loss: 0.1472 - accuracy: 0.9167\n",
      "Epoch 4/100\n",
      "12/12 [==============================] - 0s 11ms/step - loss: 0.1757 - accuracy: 0.8333\n",
      "Epoch 5/100\n",
      "12/12 [==============================] - 0s 14ms/step - loss: 0.1989 - accuracy: 0.6667\n",
      "Epoch 6/100\n",
      "12/12 [==============================] - 0s 13ms/step - loss: 0.1435 - accuracy: 0.9167\n",
      "Epoch 7/100\n",
      "12/12 [==============================] - 0s 14ms/step - loss: 0.1921 - accuracy: 0.7500\n",
      "Epoch 8/100\n",
      "12/12 [==============================] - 0s 13ms/step - loss: 0.1683 - accuracy: 0.7500\n",
      "Epoch 9/100\n",
      "12/12 [==============================] - 0s 13ms/step - loss: 0.1373 - accuracy: 0.7500\n",
      "Epoch 10/100\n",
      "12/12 [==============================] - 0s 13ms/step - loss: 0.1606 - accuracy: 0.7917\n",
      "Epoch 11/100\n",
      "12/12 [==============================] - 0s 12ms/step - loss: 0.1412 - accuracy: 0.7917\n",
      "Epoch 12/100\n",
      "12/12 [==============================] - 0s 13ms/step - loss: 0.1264 - accuracy: 0.8750\n",
      "Epoch 13/100\n",
      "12/12 [==============================] - 0s 14ms/step - loss: 0.1318 - accuracy: 0.8750\n",
      "Epoch 14/100\n",
      "12/12 [==============================] - 0s 12ms/step - loss: 0.1504 - accuracy: 0.8333\n",
      "Epoch 15/100\n",
      "12/12 [==============================] - 0s 13ms/step - loss: 0.1262 - accuracy: 0.7917\n",
      "Epoch 16/100\n",
      "12/12 [==============================] - 0s 13ms/step - loss: 0.1200 - accuracy: 0.8750\n",
      "Epoch 17/100\n",
      "12/12 [==============================] - 0s 13ms/step - loss: 0.1306 - accuracy: 0.8750\n",
      "Epoch 18/100\n",
      "12/12 [==============================] - 0s 14ms/step - loss: 0.1281 - accuracy: 0.8333\n",
      "Epoch 19/100\n",
      "12/12 [==============================] - 0s 12ms/step - loss: 0.0857 - accuracy: 0.9167\n",
      "Epoch 20/100\n",
      "12/12 [==============================] - 0s 14ms/step - loss: 0.1452 - accuracy: 0.8750\n",
      "Epoch 21/100\n",
      "12/12 [==============================] - 0s 14ms/step - loss: 0.1056 - accuracy: 0.8750\n",
      "Epoch 22/100\n",
      "12/12 [==============================] - 0s 13ms/step - loss: 0.1060 - accuracy: 0.9583\n",
      "Epoch 23/100\n",
      "12/12 [==============================] - 0s 12ms/step - loss: 0.1064 - accuracy: 0.8750\n",
      "Epoch 24/100\n",
      "12/12 [==============================] - 0s 13ms/step - loss: 0.1044 - accuracy: 0.8750\n",
      "Epoch 25/100\n",
      "12/12 [==============================] - 0s 13ms/step - loss: 0.1060 - accuracy: 0.9167\n",
      "Epoch 26/100\n",
      "12/12 [==============================] - 0s 13ms/step - loss: 0.0839 - accuracy: 0.9583\n",
      "Epoch 27/100\n",
      "12/12 [==============================] - 0s 13ms/step - loss: 0.1178 - accuracy: 0.9167\n",
      "Epoch 28/100\n",
      "12/12 [==============================] - 0s 15ms/step - loss: 0.0973 - accuracy: 0.9583\n",
      "Epoch 29/100\n",
      "12/12 [==============================] - 0s 14ms/step - loss: 0.0897 - accuracy: 0.9583\n",
      "Epoch 30/100\n",
      "12/12 [==============================] - 0s 14ms/step - loss: 0.0780 - accuracy: 1.0000\n",
      "Epoch 31/100\n",
      "12/12 [==============================] - 0s 13ms/step - loss: 0.0781 - accuracy: 1.0000\n",
      "Epoch 32/100\n",
      "12/12 [==============================] - 0s 12ms/step - loss: 0.0991 - accuracy: 0.9167\n",
      "Epoch 33/100\n",
      "12/12 [==============================] - 0s 12ms/step - loss: 0.0610 - accuracy: 1.0000\n",
      "Epoch 34/100\n",
      "12/12 [==============================] - 0s 12ms/step - loss: 0.0748 - accuracy: 1.0000\n",
      "Epoch 35/100\n",
      "12/12 [==============================] - 0s 12ms/step - loss: 0.0617 - accuracy: 1.0000\n",
      "Epoch 36/100\n",
      "12/12 [==============================] - 0s 13ms/step - loss: 0.0874 - accuracy: 0.9583\n",
      "Epoch 37/100\n",
      "12/12 [==============================] - 0s 13ms/step - loss: 0.0697 - accuracy: 1.0000\n",
      "Epoch 38/100\n",
      "12/12 [==============================] - 0s 12ms/step - loss: 0.0675 - accuracy: 0.9583\n",
      "Epoch 39/100\n",
      "12/12 [==============================] - 0s 12ms/step - loss: 0.0708 - accuracy: 1.0000\n",
      "Epoch 40/100\n",
      "12/12 [==============================] - 0s 12ms/step - loss: 0.0577 - accuracy: 1.0000\n",
      "Epoch 41/100\n",
      "12/12 [==============================] - 0s 12ms/step - loss: 0.0619 - accuracy: 1.0000\n",
      "Epoch 42/100\n",
      "12/12 [==============================] - 0s 12ms/step - loss: 0.0623 - accuracy: 1.0000\n",
      "Epoch 43/100\n",
      "12/12 [==============================] - 0s 12ms/step - loss: 0.0713 - accuracy: 0.9583\n",
      "Epoch 44/100\n",
      "12/12 [==============================] - 0s 12ms/step - loss: 0.0621 - accuracy: 1.0000\n",
      "Epoch 45/100\n",
      "12/12 [==============================] - 0s 12ms/step - loss: 0.0574 - accuracy: 1.0000\n",
      "Epoch 46/100\n",
      "12/12 [==============================] - 0s 13ms/step - loss: 0.0632 - accuracy: 1.0000\n",
      "Epoch 47/100\n",
      "12/12 [==============================] - 0s 13ms/step - loss: 0.0577 - accuracy: 1.0000\n",
      "Epoch 48/100\n",
      "12/12 [==============================] - 0s 11ms/step - loss: 0.0478 - accuracy: 1.0000\n",
      "Epoch 49/100\n",
      "12/12 [==============================] - 0s 12ms/step - loss: 0.0540 - accuracy: 1.0000\n",
      "Epoch 50/100\n",
      "12/12 [==============================] - 0s 12ms/step - loss: 0.0501 - accuracy: 1.0000\n",
      "Epoch 51/100\n",
      "12/12 [==============================] - 0s 12ms/step - loss: 0.0424 - accuracy: 1.0000\n",
      "Epoch 52/100\n",
      "12/12 [==============================] - 0s 12ms/step - loss: 0.0472 - accuracy: 1.0000\n",
      "Epoch 53/100\n",
      "12/12 [==============================] - 0s 13ms/step - loss: 0.0360 - accuracy: 1.0000\n",
      "Epoch 54/100\n",
      "12/12 [==============================] - 0s 13ms/step - loss: 0.0484 - accuracy: 1.0000\n",
      "Epoch 55/100\n",
      "12/12 [==============================] - 0s 13ms/step - loss: 0.0458 - accuracy: 1.0000\n",
      "Epoch 56/100\n",
      "12/12 [==============================] - 0s 14ms/step - loss: 0.0492 - accuracy: 1.0000\n",
      "Epoch 57/100\n",
      "12/12 [==============================] - 0s 16ms/step - loss: 0.0400 - accuracy: 1.0000\n",
      "Epoch 58/100\n",
      "12/12 [==============================] - 0s 15ms/step - loss: 0.0346 - accuracy: 1.0000\n",
      "Epoch 59/100\n",
      "12/12 [==============================] - 0s 13ms/step - loss: 0.0442 - accuracy: 1.0000\n",
      "Epoch 60/100\n",
      "12/12 [==============================] - 0s 12ms/step - loss: 0.0424 - accuracy: 1.0000\n",
      "Epoch 61/100\n",
      "12/12 [==============================] - 0s 13ms/step - loss: 0.0280 - accuracy: 1.0000\n",
      "Epoch 62/100\n",
      "12/12 [==============================] - 0s 13ms/step - loss: 0.0337 - accuracy: 1.0000\n",
      "Epoch 63/100\n",
      "12/12 [==============================] - 0s 13ms/step - loss: 0.0328 - accuracy: 1.0000\n",
      "Epoch 64/100\n",
      "12/12 [==============================] - 0s 13ms/step - loss: 0.0403 - accuracy: 0.9583\n",
      "Epoch 65/100\n",
      "12/12 [==============================] - 0s 13ms/step - loss: 0.0384 - accuracy: 1.0000\n",
      "Epoch 66/100\n",
      "12/12 [==============================] - 0s 13ms/step - loss: 0.0344 - accuracy: 1.0000\n",
      "Epoch 67/100\n",
      "12/12 [==============================] - 0s 13ms/step - loss: 0.0303 - accuracy: 1.0000\n",
      "Epoch 68/100\n",
      "12/12 [==============================] - 0s 13ms/step - loss: 0.0271 - accuracy: 1.0000\n",
      "Epoch 69/100\n",
      "12/12 [==============================] - 0s 12ms/step - loss: 0.0372 - accuracy: 1.0000\n",
      "Epoch 70/100\n",
      "12/12 [==============================] - 0s 12ms/step - loss: 0.0370 - accuracy: 1.0000\n",
      "Epoch 71/100\n",
      "12/12 [==============================] - 0s 12ms/step - loss: 0.0347 - accuracy: 1.0000\n",
      "Epoch 72/100\n",
      "12/12 [==============================] - 0s 12ms/step - loss: 0.0267 - accuracy: 1.0000\n",
      "Epoch 73/100\n",
      "12/12 [==============================] - 0s 13ms/step - loss: 0.0269 - accuracy: 1.0000\n",
      "Epoch 74/100\n",
      "12/12 [==============================] - 0s 13ms/step - loss: 0.0251 - accuracy: 1.0000\n",
      "Epoch 75/100\n",
      "12/12 [==============================] - 0s 15ms/step - loss: 0.0386 - accuracy: 1.0000\n",
      "Epoch 76/100\n",
      "12/12 [==============================] - 0s 13ms/step - loss: 0.0230 - accuracy: 1.0000\n",
      "Epoch 77/100\n",
      "12/12 [==============================] - 0s 13ms/step - loss: 0.0273 - accuracy: 1.0000\n",
      "Epoch 78/100\n",
      "12/12 [==============================] - 0s 12ms/step - loss: 0.0292 - accuracy: 1.0000\n",
      "Epoch 79/100\n",
      "12/12 [==============================] - 0s 13ms/step - loss: 0.0392 - accuracy: 0.9583\n",
      "Epoch 80/100\n",
      "12/12 [==============================] - 0s 13ms/step - loss: 0.0346 - accuracy: 1.0000\n",
      "Epoch 81/100\n",
      "12/12 [==============================] - 0s 12ms/step - loss: 0.0236 - accuracy: 1.0000\n",
      "Epoch 82/100\n"
     ]
    },
    {
     "name": "stdout",
     "output_type": "stream",
     "text": [
      "12/12 [==============================] - 0s 14ms/step - loss: 0.0358 - accuracy: 0.9583\n",
      "Epoch 83/100\n",
      "12/12 [==============================] - 0s 12ms/step - loss: 0.0249 - accuracy: 1.0000\n",
      "Epoch 84/100\n",
      "12/12 [==============================] - 0s 12ms/step - loss: 0.0267 - accuracy: 1.0000\n",
      "Epoch 85/100\n",
      "12/12 [==============================] - 0s 13ms/step - loss: 0.0220 - accuracy: 1.0000\n",
      "Epoch 86/100\n",
      "12/12 [==============================] - 0s 12ms/step - loss: 0.0219 - accuracy: 1.0000\n",
      "Epoch 87/100\n",
      "12/12 [==============================] - 0s 12ms/step - loss: 0.0245 - accuracy: 1.0000\n",
      "Epoch 88/100\n",
      "12/12 [==============================] - 0s 13ms/step - loss: 0.0146 - accuracy: 1.0000\n",
      "Epoch 89/100\n",
      "12/12 [==============================] - 0s 13ms/step - loss: 0.0216 - accuracy: 1.0000\n",
      "Epoch 90/100\n",
      "12/12 [==============================] - 0s 13ms/step - loss: 0.0188 - accuracy: 1.0000\n",
      "Epoch 91/100\n",
      "12/12 [==============================] - 0s 12ms/step - loss: 0.0287 - accuracy: 0.9583\n",
      "Epoch 92/100\n",
      "12/12 [==============================] - 0s 13ms/step - loss: 0.0308 - accuracy: 1.0000\n",
      "Epoch 93/100\n",
      "12/12 [==============================] - 0s 12ms/step - loss: 0.0187 - accuracy: 1.0000\n",
      "Epoch 94/100\n",
      "12/12 [==============================] - 0s 11ms/step - loss: 0.0205 - accuracy: 1.0000\n",
      "Epoch 95/100\n",
      "12/12 [==============================] - 0s 12ms/step - loss: 0.0262 - accuracy: 1.0000\n",
      "Epoch 96/100\n",
      "12/12 [==============================] - 0s 12ms/step - loss: 0.0177 - accuracy: 1.0000\n",
      "Epoch 97/100\n",
      "12/12 [==============================] - 0s 11ms/step - loss: 0.0202 - accuracy: 1.0000\n",
      "Epoch 98/100\n",
      "12/12 [==============================] - 0s 13ms/step - loss: 0.0249 - accuracy: 1.0000\n",
      "Epoch 99/100\n",
      "12/12 [==============================] - 0s 12ms/step - loss: 0.0166 - accuracy: 1.0000\n",
      "Epoch 100/100\n",
      "12/12 [==============================] - 0s 12ms/step - loss: 0.0248 - accuracy: 1.0000\n"
     ]
    },
    {
     "data": {
      "text/plain": [
       "<tensorflow.python.keras.callbacks.History at 0x2bf374376d8>"
      ]
     },
     "execution_count": 471,
     "metadata": {},
     "output_type": "execute_result"
    }
   ],
   "source": [
    "seq_model.fit(x_train,y_train,epochs=200,batch_size=2)"
   ]
  },
  {
   "cell_type": "code",
   "execution_count": 484,
   "metadata": {},
   "outputs": [],
   "source": [
    "model_json = seq_model.to_json()\n",
    "with open(\"C:\\\\Users\\\\NoMad\\\\PycharmProjects\\\\SANEM\\\\model\\\\1model.json\", \"w\") as json_file:\n",
    "    json_file.write(model_json)\n",
    "seq_model.save_weights(\"C:\\\\Users\\\\NoMad\\\\PycharmProjects\\\\SANEM\\\\model\\\\1weights.h5\")"
   ]
  },
  {
   "cell_type": "code",
   "execution_count": 472,
   "metadata": {
    "pycharm": {
     "name": "#%%\n"
    }
   },
   "outputs": [
    {
     "name": "stdout",
     "output_type": "stream",
     "text": [
      "[9.4568950e-01 7.7411195e-04 9.7303919e-02 7.0089670e-03 4.1770683e-05\n",
      " 5.4358966e-06]\n",
      "94.57 % this is move №  1\n"
     ]
    }
   ],
   "source": [
    "predictArr = seq_model.predict(predict_move_1)\n",
    "print(predictArr[0])\n",
    "\n",
    "maxPercentage = 0\n",
    "for i in enumerate(predictArr[0]):\n",
    "    if(i[1]>maxPercentage):\n",
    "        maxPercentage=i[1]\n",
    "        move=i[0]+1     \n",
    "print(round(maxPercentage*100, 2),\"% this is move № \", move)"
   ]
  },
  {
   "cell_type": "code",
   "execution_count": 473,
   "metadata": {
    "pycharm": {
     "name": "#%%\n"
    }
   },
   "outputs": [
    {
     "name": "stdout",
     "output_type": "stream",
     "text": [
      "[2.7004173e-03 9.7468501e-01 4.4411151e-03 5.6746288e-05 1.6833897e-04\n",
      " 8.7626457e-02]\n",
      "97.47 % this is move №  2\n"
     ]
    }
   ],
   "source": [
    "predictArr = seq_model.predict(predict_move_2)\n",
    "print(predictArr[0])\n",
    "\n",
    "maxPercentage = 0\n",
    "for i in enumerate(predictArr[0]):\n",
    "    if(i[1]>maxPercentage):\n",
    "        maxPercentage=i[1]\n",
    "        move=i[0]+1     \n",
    "print(round(maxPercentage*100, 2),\"% this is move № \", move)"
   ]
  },
  {
   "cell_type": "code",
   "execution_count": 474,
   "metadata": {
    "pycharm": {
     "name": "#%%\n"
    }
   },
   "outputs": [
    {
     "name": "stdout",
     "output_type": "stream",
     "text": [
      "[2.1359934e-08 4.3531734e-04 3.6409649e-04 1.3643138e-04 9.9838674e-01\n",
      " 2.0663261e-05]\n",
      "99.84 % this is move №  5\n"
     ]
    }
   ],
   "source": [
    "predictArr = seq_model.predict(predict_move_3)\n",
    "print(predictArr[0])\n",
    "\n",
    "maxPercentage = 0\n",
    "for i in enumerate(predictArr[0]):\n",
    "    if(i[1]>maxPercentage):\n",
    "        maxPercentage=i[1]\n",
    "        move=i[0]+1     \n",
    "print(round(maxPercentage*100, 2),\"% this is move № \", move)"
   ]
  },
  {
   "cell_type": "code",
   "execution_count": 475,
   "metadata": {
    "pycharm": {
     "name": "#%%\n"
    }
   },
   "outputs": [
    {
     "name": "stdout",
     "output_type": "stream",
     "text": [
      "[5.8440124e-03 5.2374537e-05 4.5995776e-02 9.6409690e-01 3.7929078e-03\n",
      " 2.8358176e-04]\n",
      "96.41 % this is move №  4\n"
     ]
    }
   ],
   "source": [
    "predictArr = seq_model.predict(predict_move_4)\n",
    "print(predictArr[0])\n",
    "\n",
    "maxPercentage = 0\n",
    "for i in enumerate(predictArr[0]):\n",
    "    if(i[1]>maxPercentage):\n",
    "        maxPercentage=i[1]\n",
    "        move=i[0]+1     \n",
    "print(round(maxPercentage*100, 2),\"% this is move № \", move)"
   ]
  },
  {
   "cell_type": "code",
   "execution_count": 476,
   "metadata": {
    "pycharm": {
     "name": "#%%\n"
    }
   },
   "outputs": [
    {
     "name": "stdout",
     "output_type": "stream",
     "text": [
      "[1.3401434e-02 7.0877986e-06 1.6106449e-03 2.7559721e-03 9.6189010e-01\n",
      " 2.2377348e-05]\n",
      "96.19 % this is move №  5\n"
     ]
    }
   ],
   "source": [
    "predictArr = seq_model.predict(predict_move_5)\n",
    "print(predictArr[0])\n",
    "\n",
    "maxPercentage = 0\n",
    "for i in enumerate(predictArr[0]):\n",
    "    if(i[1]>maxPercentage):\n",
    "        maxPercentage=i[1]\n",
    "        move=i[0]+1     \n",
    "print(round(maxPercentage*100, 2),\"% this is move № \", move)"
   ]
  },
  {
   "cell_type": "code",
   "execution_count": 477,
   "metadata": {
    "pycharm": {
     "name": "#%%\n"
    }
   },
   "outputs": [
    {
     "name": "stdout",
     "output_type": "stream",
     "text": [
      "[2.9434954e-05 5.9605616e-01 4.2752945e-03 1.8771590e-03 1.7667185e-04\n",
      " 8.4831101e-01]\n",
      "84.83 % this is move №  6\n"
     ]
    }
   ],
   "source": [
    "predictArr = seq_model.predict(predict_move_6)\n",
    "print(predictArr[0])\n",
    "\n",
    "maxPercentage = 0\n",
    "for i in enumerate(predictArr[0]):\n",
    "    if(i[1]>maxPercentage):\n",
    "        maxPercentage=i[1]\n",
    "        move=i[0]+1     \n",
    "print(round(maxPercentage*100, 2),\"% this is move № \", move)"
   ]
  },
  {
   "cell_type": "code",
   "execution_count": null,
   "metadata": {},
   "outputs": [],
   "source": []
  }
 ],
 "metadata": {
  "kernelspec": {
   "display_name": "Python 3",
   "language": "python",
   "name": "python3"
  },
  "language_info": {
   "codemirror_mode": {
    "name": "ipython",
    "version": 3
   },
   "file_extension": ".py",
   "mimetype": "text/x-python",
   "name": "python",
   "nbconvert_exporter": "python",
   "pygments_lexer": "ipython3",
   "version": "3.7.0"
  },
  "pycharm": {
   "stem_cell": {
    "cell_type": "raw",
    "metadata": {
     "collapsed": false
    },
    "source": []
   }
  }
 },
 "nbformat": 4,
 "nbformat_minor": 1
}
